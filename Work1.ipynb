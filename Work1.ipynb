{
 "cells": [
  {
   "cell_type": "code",
   "execution_count": 104,
   "metadata": {},
   "outputs": [],
   "source": [
    "# %pip install numpy\n",
    "# %pip install -q numpy scikit-learn imbalanced-learn\n",
    "# %pip install ucimlrepo matplotlib\n",
    "# %pip install -U imbalanced-learn fcmeans\n",
    "# %pip install -U scikit-learn\n",
    "# %pip install seaborn\n",
    "# %pip install nbformat\n",
    "# %pip show nbformat\n",
    "# %pip install umap-learn"
   ]
  },
  {
   "cell_type": "code",
   "execution_count": 105,
   "metadata": {},
   "outputs": [],
   "source": [
    "# # Import necessary libraries\n",
    "# from sklearn.datasets import make_classification\n",
    "# import pandas as pd\n",
    "# from umap import UMAP\n",
    "# import plotly.express as px\n",
    "# import seaborn as sns\n",
    "# import matplotlib.pyplot as plt\n",
    "\n",
    "# # Generate a synthetic dataset in a single go\n",
    "# X, y = make_classification(\n",
    "#     n_samples=20,   # Total number of samples\n",
    "#     n_features=2,    # Total number of features\n",
    "#     n_informative=2,  # Number of informative features\n",
    "#     n_redundant=0,   # Number of redundant features\n",
    "#     n_classes=2,weights=[0.3,0.7],      # Number of classes\n",
    "#     random_state=42,\n",
    "#     n_clusters_per_class=1\n",
    "# )\n",
    "\n",
    "# # Combine features and target into a DataFrame\n",
    "# df = pd.DataFrame(X, columns=[f'feature_{i}' for i in range(X.shape[1])])  # Feature DataFrame\n",
    "# df['species'] = y  # Add target column (species)\n",
    "\n",
    "# # Replace species labels with integers\n",
    "# unique_values = pd.unique(y)  # Use pd.unique directly on the array\n",
    "# for i in range(len(unique_values)):\n",
    "#     df['species'] = df['species'].replace(unique_values[i], i)\n",
    "\n",
    "# # Display the first few rows of the DataFrame\n",
    "# print(\"First few rows of the dataset:\")\n",
    "# print(df.head())\n",
    "# print(\"\\n\")\n",
    "\n",
    "# # Get detailed information about the DataFrame\n",
    "# print(\"Detailed information about the DataFrame:\")\n",
    "# print(df.info())\n",
    "# print(\"\\n\")\n",
    "\n",
    "# # Get summary statistics\n",
    "# print(\"Summary statistics of the dataset:\")\n",
    "# print(df.describe())\n",
    "# print(\"\\n\")\n",
    "\n",
    "# # Check for missing values\n",
    "# print(\"Missing values in the dataset:\")\n",
    "# print(df.isnull().sum())\n",
    "# print(\"\\n\")\n",
    "\n",
    "# # Get the count of different species\n",
    "# species_counts = df['species'].value_counts()\n",
    "# print(\"Counts of different species in the dataset:\")\n",
    "# print(species_counts)\n",
    "# print(\"\\n\")\n",
    "\n",
    "# # Separate features for UMAP projection (excluding 'species' column)\n",
    "# features = df.iloc[:, :-1]\n",
    "\n",
    "# # UMAP for 2D and 3D projections\n",
    "# umap_2d = UMAP(n_components=2, init='random', random_state=42)\n",
    "# umap_3d = UMAP(n_components=3, init='random', random_state=42)\n",
    "\n",
    "# # Perform UMAP projections\n",
    "# proj_2d = umap_2d.fit_transform(features)  # 2D projection\n",
    "# proj_3d = umap_3d.fit_transform(features)  # 3D projection\n",
    "\n",
    "# # 2D Scatter plot using Plotly\n",
    "# fig_2d = px.scatter(\n",
    "#     proj_2d, x=0, y=1,\n",
    "#     color=df['species'], labels={'color': 'species'},\n",
    "#     title='2D UMAP Projection'\n",
    "# )\n",
    "\n",
    "# # 3D Scatter plot using Plotly\n",
    "# fig_3d = px.scatter_3d(\n",
    "#     proj_3d, x=0, y=1, z=2,\n",
    "#     color=df['species'], labels={'color': 'species'},\n",
    "#     title='3D UMAP Projection'\n",
    "# )\n",
    "# fig_3d.update_traces(marker_size=5)\n",
    "\n",
    "# # Display the plots\n",
    "# fig_2d.show()\n",
    "# fig_3d.show()\n",
    "\n",
    "# # Pairplot to visualize relationships (optional)\n",
    "# sns.pairplot(df, hue='species')\n",
    "# plt.title('Pairplot of Dataset')\n",
    "# plt.show()\n",
    "\n",
    "# X= df.drop('species', axis=1)\n",
    "# y= df['species']\n",
    "# print(y)\n"
   ]
  },
  {
   "cell_type": "code",
   "execution_count": 106,
   "metadata": {},
   "outputs": [
    {
     "name": "stdout",
     "output_type": "stream",
     "text": [
      "First few rows of the dataset:\n",
      "   Alcohol  Malicacid   Ash  Alcalinity_of_ash  Magnesium  Total_phenols  \\\n",
      "0    14.23       1.71  2.43               15.6        127           2.80   \n",
      "1    13.20       1.78  2.14               11.2        100           2.65   \n",
      "2    13.16       2.36  2.67               18.6        101           2.80   \n",
      "3    14.37       1.95  2.50               16.8        113           3.85   \n",
      "4    13.24       2.59  2.87               21.0        118           2.80   \n",
      "\n",
      "   Flavanoids  Nonflavanoid_phenols  Proanthocyanins  Color_intensity   Hue  \\\n",
      "0        3.06                  0.28             2.29             5.64  1.04   \n",
      "1        2.76                  0.26             1.28             4.38  1.05   \n",
      "2        3.24                  0.30             2.81             5.68  1.03   \n",
      "3        3.49                  0.24             2.18             7.80  0.86   \n",
      "4        2.69                  0.39             1.82             4.32  1.04   \n",
      "\n",
      "   0D280_0D315_of_diluted_wines  Proline  species  \n",
      "0                          3.92     1065        0  \n",
      "1                          3.40     1050        0  \n",
      "2                          3.17     1185        0  \n",
      "3                          3.45     1480        0  \n",
      "4                          2.93      735        0  \n",
      "     Alcohol  Malicacid   Ash  Alcalinity_of_ash  Magnesium  Total_phenols  \\\n",
      "173    13.71       5.65  2.45               20.5         95           1.68   \n",
      "174    13.40       3.91  2.48               23.0        102           1.80   \n",
      "175    13.27       4.28  2.26               20.0        120           1.59   \n",
      "176    13.17       2.59  2.37               20.0        120           1.65   \n",
      "177    14.13       4.10  2.74               24.5         96           2.05   \n",
      "\n",
      "     Flavanoids  Nonflavanoid_phenols  Proanthocyanins  Color_intensity   Hue  \\\n",
      "173        0.61                  0.52             1.06              7.7  0.64   \n",
      "174        0.75                  0.43             1.41              7.3  0.70   \n",
      "175        0.69                  0.43             1.35             10.2  0.59   \n",
      "176        0.68                  0.53             1.46              9.3  0.60   \n",
      "177        0.76                  0.56             1.35              9.2  0.61   \n",
      "\n",
      "     0D280_0D315_of_diluted_wines  Proline  species  \n",
      "173                          1.74      740        2  \n",
      "174                          1.56      750        2  \n",
      "175                          1.56      835        2  \n",
      "176                          1.62      840        2  \n",
      "177                          1.60      560        2  \n",
      "\n",
      "\n",
      "Detailed information about the DataFrame:\n",
      "<class 'pandas.core.frame.DataFrame'>\n",
      "RangeIndex: 178 entries, 0 to 177\n",
      "Data columns (total 14 columns):\n",
      " #   Column                        Non-Null Count  Dtype  \n",
      "---  ------                        --------------  -----  \n",
      " 0   Alcohol                       178 non-null    float64\n",
      " 1   Malicacid                     178 non-null    float64\n",
      " 2   Ash                           178 non-null    float64\n",
      " 3   Alcalinity_of_ash             178 non-null    float64\n",
      " 4   Magnesium                     178 non-null    int64  \n",
      " 5   Total_phenols                 178 non-null    float64\n",
      " 6   Flavanoids                    178 non-null    float64\n",
      " 7   Nonflavanoid_phenols          178 non-null    float64\n",
      " 8   Proanthocyanins               178 non-null    float64\n",
      " 9   Color_intensity               178 non-null    float64\n",
      " 10  Hue                           178 non-null    float64\n",
      " 11  0D280_0D315_of_diluted_wines  178 non-null    float64\n",
      " 12  Proline                       178 non-null    int64  \n",
      " 13  species                       178 non-null    int64  \n",
      "dtypes: float64(11), int64(3)\n",
      "memory usage: 19.6 KB\n",
      "None\n",
      "\n",
      "\n",
      "Summary statistics of the dataset:\n",
      "          Alcohol   Malicacid         Ash  Alcalinity_of_ash   Magnesium  \\\n",
      "count  178.000000  178.000000  178.000000         178.000000  178.000000   \n",
      "mean    13.000618    2.336348    2.366517          19.494944   99.741573   \n",
      "std      0.811827    1.117146    0.274344           3.339564   14.282484   \n",
      "min     11.030000    0.740000    1.360000          10.600000   70.000000   \n",
      "25%     12.362500    1.602500    2.210000          17.200000   88.000000   \n",
      "50%     13.050000    1.865000    2.360000          19.500000   98.000000   \n",
      "75%     13.677500    3.082500    2.557500          21.500000  107.000000   \n",
      "max     14.830000    5.800000    3.230000          30.000000  162.000000   \n",
      "\n",
      "       Total_phenols  Flavanoids  Nonflavanoid_phenols  Proanthocyanins  \\\n",
      "count     178.000000  178.000000            178.000000       178.000000   \n",
      "mean        2.295112    2.029270              0.361854         1.590899   \n",
      "std         0.625851    0.998859              0.124453         0.572359   \n",
      "min         0.980000    0.340000              0.130000         0.410000   \n",
      "25%         1.742500    1.205000              0.270000         1.250000   \n",
      "50%         2.355000    2.135000              0.340000         1.555000   \n",
      "75%         2.800000    2.875000              0.437500         1.950000   \n",
      "max         3.880000    5.080000              0.660000         3.580000   \n",
      "\n",
      "       Color_intensity         Hue  0D280_0D315_of_diluted_wines      Proline  \\\n",
      "count       178.000000  178.000000                    178.000000   178.000000   \n",
      "mean          5.058090    0.957449                      2.611685   746.893258   \n",
      "std           2.318286    0.228572                      0.709990   314.907474   \n",
      "min           1.280000    0.480000                      1.270000   278.000000   \n",
      "25%           3.220000    0.782500                      1.937500   500.500000   \n",
      "50%           4.690000    0.965000                      2.780000   673.500000   \n",
      "75%           6.200000    1.120000                      3.170000   985.000000   \n",
      "max          13.000000    1.710000                      4.000000  1680.000000   \n",
      "\n",
      "          species  \n",
      "count  178.000000  \n",
      "mean     0.938202  \n",
      "std      0.775035  \n",
      "min      0.000000  \n",
      "25%      0.000000  \n",
      "50%      1.000000  \n",
      "75%      2.000000  \n",
      "max      2.000000  \n",
      "\n",
      "\n",
      "Missing values in the dataset:\n",
      "Alcohol                         0\n",
      "Malicacid                       0\n",
      "Ash                             0\n",
      "Alcalinity_of_ash               0\n",
      "Magnesium                       0\n",
      "Total_phenols                   0\n",
      "Flavanoids                      0\n",
      "Nonflavanoid_phenols            0\n",
      "Proanthocyanins                 0\n",
      "Color_intensity                 0\n",
      "Hue                             0\n",
      "0D280_0D315_of_diluted_wines    0\n",
      "Proline                         0\n",
      "species                         0\n",
      "dtype: int64\n",
      "\n",
      "\n",
      "Counts of different species in the dataset:\n",
      "species\n",
      "1    71\n",
      "0    59\n",
      "2    48\n",
      "Name: count, dtype: int64\n",
      "\n",
      "\n"
     ]
    },
    {
     "name": "stderr",
     "output_type": "stream",
     "text": [
      "c:\\Users\\91843\\Documents\\VsCode Codes\\Intuitionistic-FCM-Smote\\.venv\\Lib\\site-packages\\umap\\umap_.py:1945: UserWarning:\n",
      "\n",
      "n_jobs value 1 overridden to 1 by setting random_state. Use no seed for parallelism.\n",
      "\n",
      "c:\\Users\\91843\\Documents\\VsCode Codes\\Intuitionistic-FCM-Smote\\.venv\\Lib\\site-packages\\umap\\umap_.py:1945: UserWarning:\n",
      "\n",
      "n_jobs value 1 overridden to 1 by setting random_state. Use no seed for parallelism.\n",
      "\n"
     ]
    },
    {
     "data": {
      "application/vnd.plotly.v1+json": {
       "config": {
        "plotlyServerURL": "https://plot.ly"
       },
       "data": [
        {
         "hovertemplate": "0=%{x}<br>1=%{y}<br>species=%{marker.color}<extra></extra>",
         "legendgroup": "",
         "marker": {
          "color": [
           0,
           0,
           0,
           0,
           0,
           0,
           0,
           0,
           0,
           0,
           0,
           0,
           0,
           0,
           0,
           0,
           0,
           0,
           0,
           0,
           0,
           0,
           0,
           0,
           0,
           0,
           0,
           0,
           0,
           0,
           0,
           0,
           0,
           0,
           0,
           0,
           0,
           0,
           0,
           0,
           0,
           0,
           0,
           0,
           0,
           0,
           0,
           0,
           0,
           0,
           0,
           0,
           0,
           0,
           0,
           0,
           0,
           0,
           0,
           1,
           1,
           1,
           1,
           1,
           1,
           1,
           1,
           1,
           1,
           1,
           1,
           1,
           1,
           1,
           1,
           1,
           1,
           1,
           1,
           1,
           1,
           1,
           1,
           1,
           1,
           1,
           1,
           1,
           1,
           1,
           1,
           1,
           1,
           1,
           1,
           1,
           1,
           1,
           1,
           1,
           1,
           1,
           1,
           1,
           1,
           1,
           1,
           1,
           1,
           1,
           1,
           1,
           1,
           1,
           1,
           1,
           1,
           1,
           1,
           1,
           1,
           1,
           1,
           1,
           1,
           1,
           1,
           1,
           1,
           1,
           2,
           2,
           2,
           2,
           2,
           2,
           2,
           2,
           2,
           2,
           2,
           2,
           2,
           2,
           2,
           2,
           2,
           2,
           2,
           2,
           2,
           2,
           2,
           2,
           2,
           2,
           2,
           2,
           2,
           2,
           2,
           2,
           2,
           2,
           2,
           2,
           2,
           2,
           2,
           2,
           2,
           2,
           2,
           2,
           2,
           2,
           2,
           2
          ],
          "coloraxis": "coloraxis",
          "symbol": "circle"
         },
         "mode": "markers",
         "name": "",
         "orientation": "v",
         "showlegend": false,
         "type": "scatter",
         "x": [
          3.828234910964966,
          3.904865264892578,
          3.0954437255859375,
          2.4076333045959473,
          9.096420288085938,
          2.24908709526062,
          1.726698398590088,
          1.546524167060852,
          4.048252582550049,
          3.8963301181793213,
          2.447298765182495,
          1.7964938879013062,
          1.859274983406067,
          3.353135824203491,
          2.4670469760894775,
          1.763110637664795,
          1.7718288898468018,
          3.478339433670044,
          2.498786449432373,
          2.2122952938079834,
          8.685111999511719,
          8.697915077209473,
          3.9372053146362305,
          3.965913772583008,
          2.2684600353240967,
          2.006357431411743,
          3.0397441387176514,
          1.7688041925430298,
          2.9753036499023438,
          4.057000160217285,
          1.8474671840667725,
          2.419123649597168,
          3.8001739978790283,
          1.9110690355300903,
          3.6709771156311035,
          2.9091575145721436,
          2.582484483718872,
          3.68818998336792,
          4.106368541717529,
          8.658343315124512,
          8.463812828063965,
          4.046410083770752,
          3.551490545272827,
          11.249032974243164,
          2.6617913246154785,
          3.788969039916992,
          3.8754045963287354,
          3.7949020862579346,
          3.9183483123779297,
          1.7884678840637207,
          3.2324318885803223,
          1.7847084999084473,
          3.0768260955810547,
          2.0027592182159424,
          3.7524912357330322,
          3.562298059463501,
          3.6570029258728027,
          1.8189128637313843,
          1.616172194480896,
          -9.549883842468262,
          11.160948753356934,
          -7.063300132751465,
          12.028940200805664,
          -6.175459861755371,
          -3.4707767963409424,
          11.374244689941406,
          -9.06050968170166,
          -9.24588680267334,
          8.893628120422363,
          9.024351119995117,
          2.567110776901245,
          -5.819024085998535,
          -7.948786735534668,
          3.5625553131103516,
          2.7123842239379883,
          -6.495858192443848,
          -4.443817138671875,
          -9.071426391601562,
          8.981224060058594,
          -7.618120193481445,
          -3.3194949626922607,
          9.706470489501953,
          11.772930145263672,
          -9.4576416015625,
          -9.69579029083252,
          -7.174468517303467,
          -8.819255828857422,
          12.806734085083008,
          11.288978576660156,
          11.895286560058594,
          -8.27739143371582,
          -7.1452484130859375,
          -8.68460464477539,
          -3.361402750015259,
          -3.4227006435394287,
          3.390589714050293,
          12.198711395263672,
          -6.261570930480957,
          11.63665771484375,
          -5.722376346588135,
          9.81301212310791,
          12.752396583557129,
          -6.6978254318237305,
          -5.84357213973999,
          11.436802864074707,
          -3.1707937717437744,
          -9.190359115600586,
          -8.599002838134766,
          -3.240238904953003,
          11.382152557373047,
          12.666609764099121,
          -3.2420318126678467,
          12.239232063293457,
          -6.44964599609375,
          -4.255441665649414,
          -5.634744167327881,
          -8.739730834960938,
          -3.448547840118408,
          -4.073371410369873,
          12.715543746948242,
          12.050748825073242,
          -7.691652774810791,
          -3.580463171005249,
          -4.102392673492432,
          -4.142415523529053,
          -4.005437850952148,
          -3.430361270904541,
          -7.731167316436768,
          -3.341261148452759,
          12.648795127868652,
          12.182750701904297,
          -9.800627708435059,
          12.996304512023926,
          12.284475326538086,
          11.724449157714844,
          10.814632415771484,
          9.59999942779541,
          -9.55535888671875,
          12.818879127502441,
          12.455981254577637,
          12.341184616088867,
          8.482476234436035,
          -9.778681755065918,
          12.880925178527832,
          2.3950917720794678,
          2.2275590896606445,
          -5.8668341636657715,
          11.761910438537598,
          11.80064582824707,
          12.718157768249512,
          -8.906007766723633,
          -8.189848899841309,
          -6.572235584259033,
          11.36812973022461,
          11.946825981140137,
          9.45621395111084,
          -8.139477729797363,
          2.7227611541748047,
          11.660780906677246,
          11.807751655578613,
          -9.516013145446777,
          11.107855796813965,
          12.811245918273926,
          11.257416725158691,
          11.856950759887695,
          -9.52332592010498,
          10.803703308105469,
          10.93054485321045,
          9.01722526550293,
          12.131426811218262,
          -9.669739723205566,
          -7.876712322235107,
          11.67245101928711,
          9.169892311096191,
          8.997369766235352,
          2.11834454536438,
          2.106992244720459,
          12.944146156311035
         ],
         "xaxis": "x",
         "y": [
          7.699990749359131,
          7.386500835418701,
          8.906856536865234,
          11.508675575256348,
          7.029472827911377,
          11.381856918334961,
          10.887495994567871,
          10.864616394042969,
          7.305681228637695,
          7.186460494995117,
          11.541353225708008,
          10.687843322753906,
          11.16365909576416,
          8.579479217529297,
          11.562151908874512,
          11.042357444763184,
          10.866622924804688,
          8.427800178527832,
          11.587617874145508,
          4.7444868087768555,
          6.904096603393555,
          6.9283366203308105,
          7.028743267059326,
          6.744002819061279,
          4.7471723556518555,
          4.497178077697754,
          8.984533309936523,
          10.774687767028809,
          5.454180717468262,
          7.086153030395508,
          10.730949401855469,
          11.521284103393555,
          6.460289478302002,
          10.305708885192871,
          8.06173324584961,
          5.385047435760498,
          5.138462066650391,
          8.225241661071777,
          6.887811660766602,
          6.92844820022583,
          6.801150321960449,
          7.005526065826416,
          8.045350074768066,
          6.660907745361328,
          5.0941972732543945,
          7.834240913391113,
          7.648934841156006,
          6.443986415863037,
          7.508082389831543,
          10.41162395477295,
          8.709081649780273,
          10.428398132324219,
          8.963961601257324,
          11.238687515258789,
          7.78647518157959,
          8.300503730773926,
          6.244280815124512,
          10.477453231811523,
          10.834101676940918,
          0.8430719375610352,
          6.701793670654297,
          1.0650758743286133,
          4.481358528137207,
          1.3008158206939697,
          2.3403170108795166,
          6.543733596801758,
          1.439069151878357,
          1.3425872325897217,
          7.020482063293457,
          6.865969657897949,
          5.07207727432251,
          1.485880732536316,
          1.3852944374084473,
          6.149665832519531,
          5.202271461486816,
          1.2564507722854614,
          2.1464896202087402,
          0.7753146290779114,
          6.9220075607299805,
          1.1491848230361938,
          2.8442702293395996,
          6.949708461761475,
          4.571643829345703,
          1.0025337934494019,
          1.0881603956222534,
          1.1620045900344849,
          1.2677035331726074,
          2.6978933811187744,
          6.405109882354736,
          4.5470757484436035,
          1.4615418910980225,
          1.1053162813186646,
          1.4420257806777954,
          2.793830394744873,
          2.4091720581054688,
          5.897233963012695,
          4.479722499847412,
          1.2386952638626099,
          5.717679500579834,
          1.524919033050537,
          6.89296817779541,
          2.68100643157959,
          1.118807315826416,
          1.497452974319458,
          6.248292922973633,
          2.661395788192749,
          1.3753799200057983,
          1.4211676120758057,
          2.7208988666534424,
          6.555609703063965,
          2.4976048469543457,
          2.665686845779419,
          4.008143424987793,
          1.0096936225891113,
          2.3307855129241943,
          1.6220844984054565,
          1.3421519994735718,
          2.4775164127349854,
          2.322722911834717,
          2.765048027038574,
          4.3213324546813965,
          1.0260487794876099,
          2.263472080230713,
          2.26700758934021,
          2.256849765777588,
          2.185159921646118,
          2.2881054878234863,
          1.2314661741256714,
          2.4070308208465576,
          3.0632028579711914,
          4.616312503814697,
          0.9100061655044556,
          2.491689682006836,
          3.8576579093933105,
          5.438493728637695,
          6.672031402587891,
          6.9977827072143555,
          0.9851726293563843,
          2.921884536743164,
          3.513336658477783,
          3.747884511947632,
          6.746629238128662,
          1.0400452613830566,
          2.6018078327178955,
          4.890467643737793,
          4.672489166259766,
          1.4149285554885864,
          4.390889644622803,
          5.347820281982422,
          2.4537975788116455,
          0.7986515164375305,
          0.9858432412147522,
          1.2074854373931885,
          6.567096710205078,
          4.966198444366455,
          7.030219078063965,
          1.338720679283142,
          5.213372230529785,
          5.841582298278809,
          4.322410583496094,
          0.9452861547470093,
          6.81722354888916,
          2.7031023502349854,
          6.702108860015869,
          4.196784973144531,
          0.9086240530014038,
          6.83170747756958,
          6.549541473388672,
          6.942263126373291,
          4.6537251472473145,
          0.8199169039726257,
          1.3078685998916626,
          5.767452239990234,
          7.152285099029541,
          7.072486877441406,
          4.606184959411621,
          4.596069812774658,
          2.5743062496185303
         ],
         "yaxis": "y"
        }
       ],
       "layout": {
        "coloraxis": {
         "colorbar": {
          "title": {
           "text": "species"
          }
         },
         "colorscale": [
          [
           0,
           "#0d0887"
          ],
          [
           0.1111111111111111,
           "#46039f"
          ],
          [
           0.2222222222222222,
           "#7201a8"
          ],
          [
           0.3333333333333333,
           "#9c179e"
          ],
          [
           0.4444444444444444,
           "#bd3786"
          ],
          [
           0.5555555555555556,
           "#d8576b"
          ],
          [
           0.6666666666666666,
           "#ed7953"
          ],
          [
           0.7777777777777778,
           "#fb9f3a"
          ],
          [
           0.8888888888888888,
           "#fdca26"
          ],
          [
           1,
           "#f0f921"
          ]
         ]
        },
        "legend": {
         "tracegroupgap": 0
        },
        "margin": {
         "t": 60
        },
        "template": {
         "data": {
          "bar": [
           {
            "error_x": {
             "color": "#2a3f5f"
            },
            "error_y": {
             "color": "#2a3f5f"
            },
            "marker": {
             "line": {
              "color": "#E5ECF6",
              "width": 0.5
             },
             "pattern": {
              "fillmode": "overlay",
              "size": 10,
              "solidity": 0.2
             }
            },
            "type": "bar"
           }
          ],
          "barpolar": [
           {
            "marker": {
             "line": {
              "color": "#E5ECF6",
              "width": 0.5
             },
             "pattern": {
              "fillmode": "overlay",
              "size": 10,
              "solidity": 0.2
             }
            },
            "type": "barpolar"
           }
          ],
          "carpet": [
           {
            "aaxis": {
             "endlinecolor": "#2a3f5f",
             "gridcolor": "white",
             "linecolor": "white",
             "minorgridcolor": "white",
             "startlinecolor": "#2a3f5f"
            },
            "baxis": {
             "endlinecolor": "#2a3f5f",
             "gridcolor": "white",
             "linecolor": "white",
             "minorgridcolor": "white",
             "startlinecolor": "#2a3f5f"
            },
            "type": "carpet"
           }
          ],
          "choropleth": [
           {
            "colorbar": {
             "outlinewidth": 0,
             "ticks": ""
            },
            "type": "choropleth"
           }
          ],
          "contour": [
           {
            "colorbar": {
             "outlinewidth": 0,
             "ticks": ""
            },
            "colorscale": [
             [
              0,
              "#0d0887"
             ],
             [
              0.1111111111111111,
              "#46039f"
             ],
             [
              0.2222222222222222,
              "#7201a8"
             ],
             [
              0.3333333333333333,
              "#9c179e"
             ],
             [
              0.4444444444444444,
              "#bd3786"
             ],
             [
              0.5555555555555556,
              "#d8576b"
             ],
             [
              0.6666666666666666,
              "#ed7953"
             ],
             [
              0.7777777777777778,
              "#fb9f3a"
             ],
             [
              0.8888888888888888,
              "#fdca26"
             ],
             [
              1,
              "#f0f921"
             ]
            ],
            "type": "contour"
           }
          ],
          "contourcarpet": [
           {
            "colorbar": {
             "outlinewidth": 0,
             "ticks": ""
            },
            "type": "contourcarpet"
           }
          ],
          "heatmap": [
           {
            "colorbar": {
             "outlinewidth": 0,
             "ticks": ""
            },
            "colorscale": [
             [
              0,
              "#0d0887"
             ],
             [
              0.1111111111111111,
              "#46039f"
             ],
             [
              0.2222222222222222,
              "#7201a8"
             ],
             [
              0.3333333333333333,
              "#9c179e"
             ],
             [
              0.4444444444444444,
              "#bd3786"
             ],
             [
              0.5555555555555556,
              "#d8576b"
             ],
             [
              0.6666666666666666,
              "#ed7953"
             ],
             [
              0.7777777777777778,
              "#fb9f3a"
             ],
             [
              0.8888888888888888,
              "#fdca26"
             ],
             [
              1,
              "#f0f921"
             ]
            ],
            "type": "heatmap"
           }
          ],
          "heatmapgl": [
           {
            "colorbar": {
             "outlinewidth": 0,
             "ticks": ""
            },
            "colorscale": [
             [
              0,
              "#0d0887"
             ],
             [
              0.1111111111111111,
              "#46039f"
             ],
             [
              0.2222222222222222,
              "#7201a8"
             ],
             [
              0.3333333333333333,
              "#9c179e"
             ],
             [
              0.4444444444444444,
              "#bd3786"
             ],
             [
              0.5555555555555556,
              "#d8576b"
             ],
             [
              0.6666666666666666,
              "#ed7953"
             ],
             [
              0.7777777777777778,
              "#fb9f3a"
             ],
             [
              0.8888888888888888,
              "#fdca26"
             ],
             [
              1,
              "#f0f921"
             ]
            ],
            "type": "heatmapgl"
           }
          ],
          "histogram": [
           {
            "marker": {
             "pattern": {
              "fillmode": "overlay",
              "size": 10,
              "solidity": 0.2
             }
            },
            "type": "histogram"
           }
          ],
          "histogram2d": [
           {
            "colorbar": {
             "outlinewidth": 0,
             "ticks": ""
            },
            "colorscale": [
             [
              0,
              "#0d0887"
             ],
             [
              0.1111111111111111,
              "#46039f"
             ],
             [
              0.2222222222222222,
              "#7201a8"
             ],
             [
              0.3333333333333333,
              "#9c179e"
             ],
             [
              0.4444444444444444,
              "#bd3786"
             ],
             [
              0.5555555555555556,
              "#d8576b"
             ],
             [
              0.6666666666666666,
              "#ed7953"
             ],
             [
              0.7777777777777778,
              "#fb9f3a"
             ],
             [
              0.8888888888888888,
              "#fdca26"
             ],
             [
              1,
              "#f0f921"
             ]
            ],
            "type": "histogram2d"
           }
          ],
          "histogram2dcontour": [
           {
            "colorbar": {
             "outlinewidth": 0,
             "ticks": ""
            },
            "colorscale": [
             [
              0,
              "#0d0887"
             ],
             [
              0.1111111111111111,
              "#46039f"
             ],
             [
              0.2222222222222222,
              "#7201a8"
             ],
             [
              0.3333333333333333,
              "#9c179e"
             ],
             [
              0.4444444444444444,
              "#bd3786"
             ],
             [
              0.5555555555555556,
              "#d8576b"
             ],
             [
              0.6666666666666666,
              "#ed7953"
             ],
             [
              0.7777777777777778,
              "#fb9f3a"
             ],
             [
              0.8888888888888888,
              "#fdca26"
             ],
             [
              1,
              "#f0f921"
             ]
            ],
            "type": "histogram2dcontour"
           }
          ],
          "mesh3d": [
           {
            "colorbar": {
             "outlinewidth": 0,
             "ticks": ""
            },
            "type": "mesh3d"
           }
          ],
          "parcoords": [
           {
            "line": {
             "colorbar": {
              "outlinewidth": 0,
              "ticks": ""
             }
            },
            "type": "parcoords"
           }
          ],
          "pie": [
           {
            "automargin": true,
            "type": "pie"
           }
          ],
          "scatter": [
           {
            "fillpattern": {
             "fillmode": "overlay",
             "size": 10,
             "solidity": 0.2
            },
            "type": "scatter"
           }
          ],
          "scatter3d": [
           {
            "line": {
             "colorbar": {
              "outlinewidth": 0,
              "ticks": ""
             }
            },
            "marker": {
             "colorbar": {
              "outlinewidth": 0,
              "ticks": ""
             }
            },
            "type": "scatter3d"
           }
          ],
          "scattercarpet": [
           {
            "marker": {
             "colorbar": {
              "outlinewidth": 0,
              "ticks": ""
             }
            },
            "type": "scattercarpet"
           }
          ],
          "scattergeo": [
           {
            "marker": {
             "colorbar": {
              "outlinewidth": 0,
              "ticks": ""
             }
            },
            "type": "scattergeo"
           }
          ],
          "scattergl": [
           {
            "marker": {
             "colorbar": {
              "outlinewidth": 0,
              "ticks": ""
             }
            },
            "type": "scattergl"
           }
          ],
          "scattermapbox": [
           {
            "marker": {
             "colorbar": {
              "outlinewidth": 0,
              "ticks": ""
             }
            },
            "type": "scattermapbox"
           }
          ],
          "scatterpolar": [
           {
            "marker": {
             "colorbar": {
              "outlinewidth": 0,
              "ticks": ""
             }
            },
            "type": "scatterpolar"
           }
          ],
          "scatterpolargl": [
           {
            "marker": {
             "colorbar": {
              "outlinewidth": 0,
              "ticks": ""
             }
            },
            "type": "scatterpolargl"
           }
          ],
          "scatterternary": [
           {
            "marker": {
             "colorbar": {
              "outlinewidth": 0,
              "ticks": ""
             }
            },
            "type": "scatterternary"
           }
          ],
          "surface": [
           {
            "colorbar": {
             "outlinewidth": 0,
             "ticks": ""
            },
            "colorscale": [
             [
              0,
              "#0d0887"
             ],
             [
              0.1111111111111111,
              "#46039f"
             ],
             [
              0.2222222222222222,
              "#7201a8"
             ],
             [
              0.3333333333333333,
              "#9c179e"
             ],
             [
              0.4444444444444444,
              "#bd3786"
             ],
             [
              0.5555555555555556,
              "#d8576b"
             ],
             [
              0.6666666666666666,
              "#ed7953"
             ],
             [
              0.7777777777777778,
              "#fb9f3a"
             ],
             [
              0.8888888888888888,
              "#fdca26"
             ],
             [
              1,
              "#f0f921"
             ]
            ],
            "type": "surface"
           }
          ],
          "table": [
           {
            "cells": {
             "fill": {
              "color": "#EBF0F8"
             },
             "line": {
              "color": "white"
             }
            },
            "header": {
             "fill": {
              "color": "#C8D4E3"
             },
             "line": {
              "color": "white"
             }
            },
            "type": "table"
           }
          ]
         },
         "layout": {
          "annotationdefaults": {
           "arrowcolor": "#2a3f5f",
           "arrowhead": 0,
           "arrowwidth": 1
          },
          "autotypenumbers": "strict",
          "coloraxis": {
           "colorbar": {
            "outlinewidth": 0,
            "ticks": ""
           }
          },
          "colorscale": {
           "diverging": [
            [
             0,
             "#8e0152"
            ],
            [
             0.1,
             "#c51b7d"
            ],
            [
             0.2,
             "#de77ae"
            ],
            [
             0.3,
             "#f1b6da"
            ],
            [
             0.4,
             "#fde0ef"
            ],
            [
             0.5,
             "#f7f7f7"
            ],
            [
             0.6,
             "#e6f5d0"
            ],
            [
             0.7,
             "#b8e186"
            ],
            [
             0.8,
             "#7fbc41"
            ],
            [
             0.9,
             "#4d9221"
            ],
            [
             1,
             "#276419"
            ]
           ],
           "sequential": [
            [
             0,
             "#0d0887"
            ],
            [
             0.1111111111111111,
             "#46039f"
            ],
            [
             0.2222222222222222,
             "#7201a8"
            ],
            [
             0.3333333333333333,
             "#9c179e"
            ],
            [
             0.4444444444444444,
             "#bd3786"
            ],
            [
             0.5555555555555556,
             "#d8576b"
            ],
            [
             0.6666666666666666,
             "#ed7953"
            ],
            [
             0.7777777777777778,
             "#fb9f3a"
            ],
            [
             0.8888888888888888,
             "#fdca26"
            ],
            [
             1,
             "#f0f921"
            ]
           ],
           "sequentialminus": [
            [
             0,
             "#0d0887"
            ],
            [
             0.1111111111111111,
             "#46039f"
            ],
            [
             0.2222222222222222,
             "#7201a8"
            ],
            [
             0.3333333333333333,
             "#9c179e"
            ],
            [
             0.4444444444444444,
             "#bd3786"
            ],
            [
             0.5555555555555556,
             "#d8576b"
            ],
            [
             0.6666666666666666,
             "#ed7953"
            ],
            [
             0.7777777777777778,
             "#fb9f3a"
            ],
            [
             0.8888888888888888,
             "#fdca26"
            ],
            [
             1,
             "#f0f921"
            ]
           ]
          },
          "colorway": [
           "#636efa",
           "#EF553B",
           "#00cc96",
           "#ab63fa",
           "#FFA15A",
           "#19d3f3",
           "#FF6692",
           "#B6E880",
           "#FF97FF",
           "#FECB52"
          ],
          "font": {
           "color": "#2a3f5f"
          },
          "geo": {
           "bgcolor": "white",
           "lakecolor": "white",
           "landcolor": "#E5ECF6",
           "showlakes": true,
           "showland": true,
           "subunitcolor": "white"
          },
          "hoverlabel": {
           "align": "left"
          },
          "hovermode": "closest",
          "mapbox": {
           "style": "light"
          },
          "paper_bgcolor": "white",
          "plot_bgcolor": "#E5ECF6",
          "polar": {
           "angularaxis": {
            "gridcolor": "white",
            "linecolor": "white",
            "ticks": ""
           },
           "bgcolor": "#E5ECF6",
           "radialaxis": {
            "gridcolor": "white",
            "linecolor": "white",
            "ticks": ""
           }
          },
          "scene": {
           "xaxis": {
            "backgroundcolor": "#E5ECF6",
            "gridcolor": "white",
            "gridwidth": 2,
            "linecolor": "white",
            "showbackground": true,
            "ticks": "",
            "zerolinecolor": "white"
           },
           "yaxis": {
            "backgroundcolor": "#E5ECF6",
            "gridcolor": "white",
            "gridwidth": 2,
            "linecolor": "white",
            "showbackground": true,
            "ticks": "",
            "zerolinecolor": "white"
           },
           "zaxis": {
            "backgroundcolor": "#E5ECF6",
            "gridcolor": "white",
            "gridwidth": 2,
            "linecolor": "white",
            "showbackground": true,
            "ticks": "",
            "zerolinecolor": "white"
           }
          },
          "shapedefaults": {
           "line": {
            "color": "#2a3f5f"
           }
          },
          "ternary": {
           "aaxis": {
            "gridcolor": "white",
            "linecolor": "white",
            "ticks": ""
           },
           "baxis": {
            "gridcolor": "white",
            "linecolor": "white",
            "ticks": ""
           },
           "bgcolor": "#E5ECF6",
           "caxis": {
            "gridcolor": "white",
            "linecolor": "white",
            "ticks": ""
           }
          },
          "title": {
           "x": 0.05
          },
          "xaxis": {
           "automargin": true,
           "gridcolor": "white",
           "linecolor": "white",
           "ticks": "",
           "title": {
            "standoff": 15
           },
           "zerolinecolor": "white",
           "zerolinewidth": 2
          },
          "yaxis": {
           "automargin": true,
           "gridcolor": "white",
           "linecolor": "white",
           "ticks": "",
           "title": {
            "standoff": 15
           },
           "zerolinecolor": "white",
           "zerolinewidth": 2
          }
         }
        },
        "xaxis": {
         "anchor": "y",
         "domain": [
          0,
          1
         ],
         "title": {
          "text": "0"
         }
        },
        "yaxis": {
         "anchor": "x",
         "domain": [
          0,
          1
         ],
         "title": {
          "text": "1"
         }
        }
       }
      }
     },
     "metadata": {},
     "output_type": "display_data"
    },
    {
     "data": {
      "application/vnd.plotly.v1+json": {
       "config": {
        "plotlyServerURL": "https://plot.ly"
       },
       "data": [
        {
         "hovertemplate": "0=%{x}<br>1=%{y}<br>2=%{z}<br>species=%{marker.color}<extra></extra>",
         "legendgroup": "",
         "marker": {
          "color": [
           0,
           0,
           0,
           0,
           0,
           0,
           0,
           0,
           0,
           0,
           0,
           0,
           0,
           0,
           0,
           0,
           0,
           0,
           0,
           0,
           0,
           0,
           0,
           0,
           0,
           0,
           0,
           0,
           0,
           0,
           0,
           0,
           0,
           0,
           0,
           0,
           0,
           0,
           0,
           0,
           0,
           0,
           0,
           0,
           0,
           0,
           0,
           0,
           0,
           0,
           0,
           0,
           0,
           0,
           0,
           0,
           0,
           0,
           0,
           1,
           1,
           1,
           1,
           1,
           1,
           1,
           1,
           1,
           1,
           1,
           1,
           1,
           1,
           1,
           1,
           1,
           1,
           1,
           1,
           1,
           1,
           1,
           1,
           1,
           1,
           1,
           1,
           1,
           1,
           1,
           1,
           1,
           1,
           1,
           1,
           1,
           1,
           1,
           1,
           1,
           1,
           1,
           1,
           1,
           1,
           1,
           1,
           1,
           1,
           1,
           1,
           1,
           1,
           1,
           1,
           1,
           1,
           1,
           1,
           1,
           1,
           1,
           1,
           1,
           1,
           1,
           1,
           1,
           1,
           1,
           2,
           2,
           2,
           2,
           2,
           2,
           2,
           2,
           2,
           2,
           2,
           2,
           2,
           2,
           2,
           2,
           2,
           2,
           2,
           2,
           2,
           2,
           2,
           2,
           2,
           2,
           2,
           2,
           2,
           2,
           2,
           2,
           2,
           2,
           2,
           2,
           2,
           2,
           2,
           2,
           2,
           2,
           2,
           2,
           2,
           2,
           2,
           2
          ],
          "coloraxis": "coloraxis",
          "size": 5,
          "symbol": "circle"
         },
         "mode": "markers",
         "name": "",
         "scene": "scene",
         "showlegend": false,
         "type": "scatter3d",
         "x": [
          3.016510486602783,
          3.110325813293457,
          3.478274345397949,
          5.551800727844238,
          2.815054178237915,
          5.673643112182617,
          6.237088680267334,
          6.174116611480713,
          3.073049306869507,
          2.957595109939575,
          5.60172176361084,
          6.423496246337891,
          6.1355485916137695,
          3.3458001613616943,
          5.48081636428833,
          6.135366916656494,
          6.371138572692871,
          3.4441535472869873,
          5.556124687194824,
          3.372098922729492,
          2.807584047317505,
          2.77774977684021,
          3.0096254348754883,
          2.903946876525879,
          3.4163408279418945,
          3.3880889415740967,
          3.6480250358581543,
          6.329290866851807,
          3.317439079284668,
          3.018578290939331,
          6.246669769287109,
          5.543192386627197,
          2.967599868774414,
          6.545456886291504,
          3.248560667037964,
          3.2636210918426514,
          3.456625461578369,
          3.4390017986297607,
          2.9188246726989746,
          2.7410383224487305,
          2.8171582221984863,
          2.9809556007385254,
          3.3159942626953125,
          2.952521324157715,
          3.4813172817230225,
          3.2453675270080566,
          3.2073185443878174,
          2.952576160430908,
          3.2067577838897705,
          6.603842735290527,
          3.4765164852142334,
          6.538145065307617,
          3.5455918312072754,
          5.987526893615723,
          3.2630960941314697,
          3.361163854598999,
          3.089644432067871,
          6.544565200805664,
          6.297957897186279,
          11.186044692993164,
          2.8986947536468506,
          12.942996978759766,
          1.7643420696258545,
          13.44054126739502,
          14.908467292785645,
          2.876546621322632,
          11.745779991149902,
          11.429308891296387,
          2.831521511077881,
          2.6340651512145996,
          3.3413610458374023,
          13.49208927154541,
          12.577666282653809,
          3.020191192626953,
          3.358853578567505,
          13.407439231872559,
          14.214238166809082,
          11.516103744506836,
          2.6805131435394287,
          12.681175231933594,
          15.168656349182129,
          2.7765417098999023,
          1.5552752017974854,
          11.134827613830566,
          10.93915843963623,
          13.031082153320312,
          11.989374160766602,
          2.098438262939453,
          2.9000844955444336,
          1.6243942975997925,
          12.388416290283203,
          13.097861289978027,
          12.058773040771484,
          15.2662935256958,
          14.943150520324707,
          3.1639926433563232,
          1.9584366083145142,
          13.196348190307617,
          2.5999724864959717,
          13.50834846496582,
          2.8235836029052734,
          2.0121138095855713,
          13.225584983825684,
          13.487680435180664,
          2.7688183784484863,
          15.216683387756348,
          11.494187355041504,
          12.195883750915527,
          15.301568031311035,
          2.7989113330841064,
          2.2188572883605957,
          15.146990776062012,
          1.8840923309326172,
          13.241612434387207,
          14.261777877807617,
          13.576810836791992,
          12.009391784667969,
          14.991645812988281,
          14.470250129699707,
          2.073326826095581,
          1.7741419076919556,
          12.581915855407715,
          14.70790958404541,
          14.4138765335083,
          14.414109230041504,
          14.24538803100586,
          14.828513145446777,
          12.684651374816895,
          15.02319622039795,
          1.9797323942184448,
          1.9278911352157593,
          10.907655715942383,
          2.1631927490234375,
          1.8240050077438354,
          2.3825936317443848,
          2.870424509048462,
          2.78585147857666,
          11.061923027038574,
          1.9250932931900024,
          1.9127084016799927,
          1.8708584308624268,
          2.713003396987915,
          10.91559886932373,
          2.100074529647827,
          3.420083522796631,
          3.3597559928894043,
          13.662428855895996,
          1.5171390771865845,
          2.3000454902648926,
          2.363173484802246,
          11.461193084716797,
          12.25418758392334,
          13.476577758789062,
          2.8188652992248535,
          1.968900203704834,
          2.7397544384002686,
          12.472708702087402,
          3.411855459213257,
          2.452486991882324,
          1.7091461420059204,
          10.901305198669434,
          2.8360354900360107,
          2.2034528255462646,
          3.0724716186523438,
          1.7509746551513672,
          10.985774040222168,
          2.8594634532928467,
          2.8979921340942383,
          2.9398114681243896,
          1.9080300331115723,
          11.095223426818848,
          12.628708839416504,
          2.4977307319641113,
          2.8570187091827393,
          2.9158167839050293,
          3.5385608673095703,
          3.4360833168029785,
          2.1720192432403564
         ],
         "y": [
          13.847319602966309,
          13.687793731689453,
          13.601531982421875,
          1.56300687789917,
          7.7243123054504395,
          1.4641149044036865,
          1.2708778381347656,
          1.2146161794662476,
          13.678916931152344,
          13.708721160888672,
          1.6687191724777222,
          1.293931245803833,
          1.3065121173858643,
          13.456153869628906,
          1.65957510471344,
          1.1952166557312012,
          1.0498625040054321,
          13.649004936218262,
          1.5599976778030396,
          11.225465774536133,
          8.15559196472168,
          8.086360931396484,
          13.583049774169922,
          13.439000129699707,
          11.188985824584961,
          10.99161434173584,
          13.434267044067383,
          1.385856032371521,
          12.026141166687012,
          13.61546802520752,
          1.2623945474624634,
          1.544737696647644,
          13.161870956420898,
          0.8718676567077637,
          13.635937690734863,
          12.146371841430664,
          11.679569244384766,
          13.713638305664062,
          13.444875717163086,
          7.960784435272217,
          8.314741134643555,
          13.602312088012695,
          13.683311462402344,
          5.671864986419678,
          11.770605087280273,
          13.681952476501465,
          13.662841796875,
          13.076639175415039,
          13.634389877319336,
          1.0147634744644165,
          13.706502914428711,
          1.1432777643203735,
          13.531392097473145,
          1.2742191553115845,
          13.689705848693848,
          13.625868797302246,
          12.974017143249512,
          1.1421293020248413,
          1.228898286819458,
          -0.3983376622200012,
          5.619568824768066,
          -0.5787346363067627,
          3.6033544540405273,
          -0.9218827486038208,
          -2.324453592300415,
          5.4398040771484375,
          -0.41464272141456604,
          -0.3401954770088196,
          7.652816295623779,
          7.559261798858643,
          11.605024337768555,
          -0.898784339427948,
          -0.5762742161750793,
          12.848257064819336,
          11.71900463104248,
          -0.7816004157066345,
          -1.639039397239685,
          -0.5827763080596924,
          7.9050612449646,
          -0.5650967955589294,
          -2.5547664165496826,
          7.033827304840088,
          3.4751338958740234,
          -0.28463447093963623,
          -0.4067170321941376,
          -0.6670474410057068,
          -0.47672730684280396,
          2.0447309017181396,
          5.464433670043945,
          3.416372299194336,
          -0.535149872303009,
          -0.7217960953712463,
          -0.43970075249671936,
          -2.4997270107269287,
          -2.3413846492767334,
          12.507896423339844,
          3.3755455017089844,
          -0.8742993474006653,
          4.897536277770996,
          -0.9087698459625244,
          6.939789295196533,
          1.8632861375808716,
          -0.8011600375175476,
          -0.9352158308029175,
          5.2550787925720215,
          -2.4780988693237305,
          -0.4149704575538635,
          -0.49836766719818115,
          -2.5356557369232178,
          5.469819068908691,
          1.9453372955322266,
          -2.5112743377685547,
          2.8787834644317627,
          -0.7960965037345886,
          -1.692345142364502,
          -0.9853289723396301,
          -0.45348894596099854,
          -2.33267879486084,
          -1.9085911512374878,
          1.9294841289520264,
          3.4622650146484375,
          -0.4849550724029541,
          -2.3345062732696533,
          -1.8510212898254395,
          -1.7780535221099854,
          -1.7872763872146606,
          -2.2832934856414795,
          -0.5789106488227844,
          -2.4145030975341797,
          2.2718498706817627,
          3.5434041023254395,
          -0.36921975016593933,
          1.9196940660476685,
          2.7617111206054688,
          4.605594635009766,
          6.0190300941467285,
          7.089611053466797,
          -0.3968067467212677,
          2.217078924179077,
          2.4723422527313232,
          2.7644309997558594,
          8.02857780456543,
          -0.41450923681259155,
          1.8778411149978638,
          11.348420143127441,
          11.05665111541748,
          -1.0836395025253296,
          3.325637102127075,
          4.498011589050293,
          1.7191239595413208,
          -0.49987268447875977,
          -0.5410973429679871,
          -0.7385638356208801,
          5.553419589996338,
          3.8047008514404297,
          7.213459491729736,
          -0.5289777517318726,
          11.77535343170166,
          4.799027919769287,
          3.269542932510376,
          -0.2296396940946579,
          5.53316068649292,
          2.0181386470794678,
          5.437483310699463,
          3.1189608573913574,
          -0.32213902473449707,
          6.008625507354736,
          5.810635566711426,
          7.692502498626709,
          3.6195192337036133,
          -0.2036871612071991,
          -0.534200131893158,
          4.8363776206970215,
          7.444575309753418,
          7.689172744750977,
          11.166743278503418,
          11.151771545410156,
          1.9192613363265991
         ],
         "z": [
          1.697103500366211,
          1.390486717224121,
          2.8346970081329346,
          14.271739959716797,
          1.3171755075454712,
          14.193742752075195,
          13.983955383300781,
          14.064678192138672,
          1.2680708169937134,
          1.235009789466858,
          14.365440368652344,
          13.786032676696777,
          14.105853080749512,
          2.775540351867676,
          14.370004653930664,
          14.167946815490723,
          14.038715362548828,
          2.6162679195404053,
          14.278311729431152,
          0.421926349401474,
          1.155510663986206,
          1.0601438283920288,
          1.062825083732605,
          0.9094367027282715,
          0.3853154480457306,
          0.5663526058197021,
          2.889472246170044,
          13.78870677947998,
          0.3697032630443573,
          1.1053115129470825,
          13.966814994812012,
          14.252673149108887,
          0.8344743251800537,
          13.916946411132812,
          2.163937568664551,
          0.4178474545478821,
          0.1984199732542038,
          2.44572114944458,
          0.9214558005332947,
          1.2797602415084839,
          1.0479401350021362,
          1.1289623975753784,
          2.158045768737793,
          0.9359710216522217,
          0.2809530198574066,
          2.0241832733154297,
          1.74971604347229,
          0.8028904795646667,
          1.5804368257522583,
          13.824816703796387,
          2.7559807300567627,
          13.739861488342285,
          2.953401803970337,
          14.19721508026123,
          1.8004416227340698,
          2.530649423599243,
          0.6425049901008606,
          13.75185775756836,
          14.005082130432129,
          3.6223411560058594,
          0.9739599823951721,
          5.093337059020996,
          1.5269222259521484,
          5.972711563110352,
          8.15979290008545,
          1.0541181564331055,
          3.6269540786743164,
          3.5413036346435547,
          1.2477552890777588,
          1.393107295036316,
          0.1006641611456871,
          6.14394998550415,
          4.331584453582764,
          0.7039769887924194,
          0.165845587849617,
          5.506394863128662,
          7.27695369720459,
          4.061971664428711,
          1.2525757551193237,
          4.743977069854736,
          8.47110366821289,
          1.2459625005722046,
          1.6393414735794067,
          3.6249749660491943,
          3.8560681343078613,
          5.086256504058838,
          3.8831961154937744,
          2.1477878093719482,
          1.4053926467895508,
          1.607313632965088,
          4.168821334838867,
          5.274296283721924,
          3.7459681034088135,
          8.38985538482666,
          8.188567161560059,
          0.5267468690872192,
          1.3583483695983887,
          5.709250450134277,
          1.3713551759719849,
          6.244135856628418,
          1.1828416585922241,
          2.135967254638672,
          5.316282749176025,
          6.084733963012695,
          1.2792267799377441,
          8.368894577026367,
          3.5837862491607666,
          3.9342145919799805,
          8.334497451782227,
          1.2091710567474365,
          2.0139267444610596,
          8.27523136138916,
          1.5487486124038696,
          5.523639678955078,
          7.375878810882568,
          6.235341548919678,
          3.816236734390259,
          8.338232040405273,
          7.615896224975586,
          2.068406343460083,
          1.4631091356277466,
          4.803924560546875,
          7.9939866065979,
          7.540618896484375,
          7.474743366241455,
          7.464041709899902,
          8.057506561279297,
          4.6468610763549805,
          8.097616195678711,
          1.8679136037826538,
          1.343238353729248,
          3.9013352394104004,
          2.227893114089966,
          1.6481043100357056,
          1.3055040836334229,
          1.1548563241958618,
          1.2180193662643433,
          3.8383352756500244,
          1.9051933288574219,
          1.7476204633712769,
          1.6347556114196777,
          1.0328960418701172,
          3.9222424030303955,
          2.2952311038970947,
          0.35397103428840637,
          0.47354230284690857,
          6.212596893310547,
          1.5409802198410034,
          1.3251858949661255,
          1.9938589334487915,
          4.167244911193848,
          4.563102722167969,
          5.456023693084717,
          1.0591559410095215,
          1.3775906562805176,
          1.2646807432174683,
          4.243608474731445,
          0.2646752893924713,
          1.1928656101226807,
          1.5141634941101074,
          3.7376461029052734,
          0.9969043135643005,
          2.030707597732544,
          0.8873249292373657,
          1.63055419921875,
          3.773820638656616,
          1.0672136545181274,
          1.2527260780334473,
          1.1017086505889893,
          1.3799934387207031,
          3.8509867191314697,
          4.409078598022461,
          1.2611454725265503,
          1.114832878112793,
          1.0739803314208984,
          0.28966274857521057,
          0.4153514802455902,
          2.023270606994629
         ]
        }
       ],
       "layout": {
        "coloraxis": {
         "colorbar": {
          "title": {
           "text": "species"
          }
         },
         "colorscale": [
          [
           0,
           "#0d0887"
          ],
          [
           0.1111111111111111,
           "#46039f"
          ],
          [
           0.2222222222222222,
           "#7201a8"
          ],
          [
           0.3333333333333333,
           "#9c179e"
          ],
          [
           0.4444444444444444,
           "#bd3786"
          ],
          [
           0.5555555555555556,
           "#d8576b"
          ],
          [
           0.6666666666666666,
           "#ed7953"
          ],
          [
           0.7777777777777778,
           "#fb9f3a"
          ],
          [
           0.8888888888888888,
           "#fdca26"
          ],
          [
           1,
           "#f0f921"
          ]
         ]
        },
        "legend": {
         "tracegroupgap": 0
        },
        "margin": {
         "t": 60
        },
        "scene": {
         "domain": {
          "x": [
           0,
           1
          ],
          "y": [
           0,
           1
          ]
         },
         "xaxis": {
          "title": {
           "text": "0"
          }
         },
         "yaxis": {
          "title": {
           "text": "1"
          }
         },
         "zaxis": {
          "title": {
           "text": "2"
          }
         }
        },
        "template": {
         "data": {
          "bar": [
           {
            "error_x": {
             "color": "#2a3f5f"
            },
            "error_y": {
             "color": "#2a3f5f"
            },
            "marker": {
             "line": {
              "color": "#E5ECF6",
              "width": 0.5
             },
             "pattern": {
              "fillmode": "overlay",
              "size": 10,
              "solidity": 0.2
             }
            },
            "type": "bar"
           }
          ],
          "barpolar": [
           {
            "marker": {
             "line": {
              "color": "#E5ECF6",
              "width": 0.5
             },
             "pattern": {
              "fillmode": "overlay",
              "size": 10,
              "solidity": 0.2
             }
            },
            "type": "barpolar"
           }
          ],
          "carpet": [
           {
            "aaxis": {
             "endlinecolor": "#2a3f5f",
             "gridcolor": "white",
             "linecolor": "white",
             "minorgridcolor": "white",
             "startlinecolor": "#2a3f5f"
            },
            "baxis": {
             "endlinecolor": "#2a3f5f",
             "gridcolor": "white",
             "linecolor": "white",
             "minorgridcolor": "white",
             "startlinecolor": "#2a3f5f"
            },
            "type": "carpet"
           }
          ],
          "choropleth": [
           {
            "colorbar": {
             "outlinewidth": 0,
             "ticks": ""
            },
            "type": "choropleth"
           }
          ],
          "contour": [
           {
            "colorbar": {
             "outlinewidth": 0,
             "ticks": ""
            },
            "colorscale": [
             [
              0,
              "#0d0887"
             ],
             [
              0.1111111111111111,
              "#46039f"
             ],
             [
              0.2222222222222222,
              "#7201a8"
             ],
             [
              0.3333333333333333,
              "#9c179e"
             ],
             [
              0.4444444444444444,
              "#bd3786"
             ],
             [
              0.5555555555555556,
              "#d8576b"
             ],
             [
              0.6666666666666666,
              "#ed7953"
             ],
             [
              0.7777777777777778,
              "#fb9f3a"
             ],
             [
              0.8888888888888888,
              "#fdca26"
             ],
             [
              1,
              "#f0f921"
             ]
            ],
            "type": "contour"
           }
          ],
          "contourcarpet": [
           {
            "colorbar": {
             "outlinewidth": 0,
             "ticks": ""
            },
            "type": "contourcarpet"
           }
          ],
          "heatmap": [
           {
            "colorbar": {
             "outlinewidth": 0,
             "ticks": ""
            },
            "colorscale": [
             [
              0,
              "#0d0887"
             ],
             [
              0.1111111111111111,
              "#46039f"
             ],
             [
              0.2222222222222222,
              "#7201a8"
             ],
             [
              0.3333333333333333,
              "#9c179e"
             ],
             [
              0.4444444444444444,
              "#bd3786"
             ],
             [
              0.5555555555555556,
              "#d8576b"
             ],
             [
              0.6666666666666666,
              "#ed7953"
             ],
             [
              0.7777777777777778,
              "#fb9f3a"
             ],
             [
              0.8888888888888888,
              "#fdca26"
             ],
             [
              1,
              "#f0f921"
             ]
            ],
            "type": "heatmap"
           }
          ],
          "heatmapgl": [
           {
            "colorbar": {
             "outlinewidth": 0,
             "ticks": ""
            },
            "colorscale": [
             [
              0,
              "#0d0887"
             ],
             [
              0.1111111111111111,
              "#46039f"
             ],
             [
              0.2222222222222222,
              "#7201a8"
             ],
             [
              0.3333333333333333,
              "#9c179e"
             ],
             [
              0.4444444444444444,
              "#bd3786"
             ],
             [
              0.5555555555555556,
              "#d8576b"
             ],
             [
              0.6666666666666666,
              "#ed7953"
             ],
             [
              0.7777777777777778,
              "#fb9f3a"
             ],
             [
              0.8888888888888888,
              "#fdca26"
             ],
             [
              1,
              "#f0f921"
             ]
            ],
            "type": "heatmapgl"
           }
          ],
          "histogram": [
           {
            "marker": {
             "pattern": {
              "fillmode": "overlay",
              "size": 10,
              "solidity": 0.2
             }
            },
            "type": "histogram"
           }
          ],
          "histogram2d": [
           {
            "colorbar": {
             "outlinewidth": 0,
             "ticks": ""
            },
            "colorscale": [
             [
              0,
              "#0d0887"
             ],
             [
              0.1111111111111111,
              "#46039f"
             ],
             [
              0.2222222222222222,
              "#7201a8"
             ],
             [
              0.3333333333333333,
              "#9c179e"
             ],
             [
              0.4444444444444444,
              "#bd3786"
             ],
             [
              0.5555555555555556,
              "#d8576b"
             ],
             [
              0.6666666666666666,
              "#ed7953"
             ],
             [
              0.7777777777777778,
              "#fb9f3a"
             ],
             [
              0.8888888888888888,
              "#fdca26"
             ],
             [
              1,
              "#f0f921"
             ]
            ],
            "type": "histogram2d"
           }
          ],
          "histogram2dcontour": [
           {
            "colorbar": {
             "outlinewidth": 0,
             "ticks": ""
            },
            "colorscale": [
             [
              0,
              "#0d0887"
             ],
             [
              0.1111111111111111,
              "#46039f"
             ],
             [
              0.2222222222222222,
              "#7201a8"
             ],
             [
              0.3333333333333333,
              "#9c179e"
             ],
             [
              0.4444444444444444,
              "#bd3786"
             ],
             [
              0.5555555555555556,
              "#d8576b"
             ],
             [
              0.6666666666666666,
              "#ed7953"
             ],
             [
              0.7777777777777778,
              "#fb9f3a"
             ],
             [
              0.8888888888888888,
              "#fdca26"
             ],
             [
              1,
              "#f0f921"
             ]
            ],
            "type": "histogram2dcontour"
           }
          ],
          "mesh3d": [
           {
            "colorbar": {
             "outlinewidth": 0,
             "ticks": ""
            },
            "type": "mesh3d"
           }
          ],
          "parcoords": [
           {
            "line": {
             "colorbar": {
              "outlinewidth": 0,
              "ticks": ""
             }
            },
            "type": "parcoords"
           }
          ],
          "pie": [
           {
            "automargin": true,
            "type": "pie"
           }
          ],
          "scatter": [
           {
            "fillpattern": {
             "fillmode": "overlay",
             "size": 10,
             "solidity": 0.2
            },
            "type": "scatter"
           }
          ],
          "scatter3d": [
           {
            "line": {
             "colorbar": {
              "outlinewidth": 0,
              "ticks": ""
             }
            },
            "marker": {
             "colorbar": {
              "outlinewidth": 0,
              "ticks": ""
             }
            },
            "type": "scatter3d"
           }
          ],
          "scattercarpet": [
           {
            "marker": {
             "colorbar": {
              "outlinewidth": 0,
              "ticks": ""
             }
            },
            "type": "scattercarpet"
           }
          ],
          "scattergeo": [
           {
            "marker": {
             "colorbar": {
              "outlinewidth": 0,
              "ticks": ""
             }
            },
            "type": "scattergeo"
           }
          ],
          "scattergl": [
           {
            "marker": {
             "colorbar": {
              "outlinewidth": 0,
              "ticks": ""
             }
            },
            "type": "scattergl"
           }
          ],
          "scattermapbox": [
           {
            "marker": {
             "colorbar": {
              "outlinewidth": 0,
              "ticks": ""
             }
            },
            "type": "scattermapbox"
           }
          ],
          "scatterpolar": [
           {
            "marker": {
             "colorbar": {
              "outlinewidth": 0,
              "ticks": ""
             }
            },
            "type": "scatterpolar"
           }
          ],
          "scatterpolargl": [
           {
            "marker": {
             "colorbar": {
              "outlinewidth": 0,
              "ticks": ""
             }
            },
            "type": "scatterpolargl"
           }
          ],
          "scatterternary": [
           {
            "marker": {
             "colorbar": {
              "outlinewidth": 0,
              "ticks": ""
             }
            },
            "type": "scatterternary"
           }
          ],
          "surface": [
           {
            "colorbar": {
             "outlinewidth": 0,
             "ticks": ""
            },
            "colorscale": [
             [
              0,
              "#0d0887"
             ],
             [
              0.1111111111111111,
              "#46039f"
             ],
             [
              0.2222222222222222,
              "#7201a8"
             ],
             [
              0.3333333333333333,
              "#9c179e"
             ],
             [
              0.4444444444444444,
              "#bd3786"
             ],
             [
              0.5555555555555556,
              "#d8576b"
             ],
             [
              0.6666666666666666,
              "#ed7953"
             ],
             [
              0.7777777777777778,
              "#fb9f3a"
             ],
             [
              0.8888888888888888,
              "#fdca26"
             ],
             [
              1,
              "#f0f921"
             ]
            ],
            "type": "surface"
           }
          ],
          "table": [
           {
            "cells": {
             "fill": {
              "color": "#EBF0F8"
             },
             "line": {
              "color": "white"
             }
            },
            "header": {
             "fill": {
              "color": "#C8D4E3"
             },
             "line": {
              "color": "white"
             }
            },
            "type": "table"
           }
          ]
         },
         "layout": {
          "annotationdefaults": {
           "arrowcolor": "#2a3f5f",
           "arrowhead": 0,
           "arrowwidth": 1
          },
          "autotypenumbers": "strict",
          "coloraxis": {
           "colorbar": {
            "outlinewidth": 0,
            "ticks": ""
           }
          },
          "colorscale": {
           "diverging": [
            [
             0,
             "#8e0152"
            ],
            [
             0.1,
             "#c51b7d"
            ],
            [
             0.2,
             "#de77ae"
            ],
            [
             0.3,
             "#f1b6da"
            ],
            [
             0.4,
             "#fde0ef"
            ],
            [
             0.5,
             "#f7f7f7"
            ],
            [
             0.6,
             "#e6f5d0"
            ],
            [
             0.7,
             "#b8e186"
            ],
            [
             0.8,
             "#7fbc41"
            ],
            [
             0.9,
             "#4d9221"
            ],
            [
             1,
             "#276419"
            ]
           ],
           "sequential": [
            [
             0,
             "#0d0887"
            ],
            [
             0.1111111111111111,
             "#46039f"
            ],
            [
             0.2222222222222222,
             "#7201a8"
            ],
            [
             0.3333333333333333,
             "#9c179e"
            ],
            [
             0.4444444444444444,
             "#bd3786"
            ],
            [
             0.5555555555555556,
             "#d8576b"
            ],
            [
             0.6666666666666666,
             "#ed7953"
            ],
            [
             0.7777777777777778,
             "#fb9f3a"
            ],
            [
             0.8888888888888888,
             "#fdca26"
            ],
            [
             1,
             "#f0f921"
            ]
           ],
           "sequentialminus": [
            [
             0,
             "#0d0887"
            ],
            [
             0.1111111111111111,
             "#46039f"
            ],
            [
             0.2222222222222222,
             "#7201a8"
            ],
            [
             0.3333333333333333,
             "#9c179e"
            ],
            [
             0.4444444444444444,
             "#bd3786"
            ],
            [
             0.5555555555555556,
             "#d8576b"
            ],
            [
             0.6666666666666666,
             "#ed7953"
            ],
            [
             0.7777777777777778,
             "#fb9f3a"
            ],
            [
             0.8888888888888888,
             "#fdca26"
            ],
            [
             1,
             "#f0f921"
            ]
           ]
          },
          "colorway": [
           "#636efa",
           "#EF553B",
           "#00cc96",
           "#ab63fa",
           "#FFA15A",
           "#19d3f3",
           "#FF6692",
           "#B6E880",
           "#FF97FF",
           "#FECB52"
          ],
          "font": {
           "color": "#2a3f5f"
          },
          "geo": {
           "bgcolor": "white",
           "lakecolor": "white",
           "landcolor": "#E5ECF6",
           "showlakes": true,
           "showland": true,
           "subunitcolor": "white"
          },
          "hoverlabel": {
           "align": "left"
          },
          "hovermode": "closest",
          "mapbox": {
           "style": "light"
          },
          "paper_bgcolor": "white",
          "plot_bgcolor": "#E5ECF6",
          "polar": {
           "angularaxis": {
            "gridcolor": "white",
            "linecolor": "white",
            "ticks": ""
           },
           "bgcolor": "#E5ECF6",
           "radialaxis": {
            "gridcolor": "white",
            "linecolor": "white",
            "ticks": ""
           }
          },
          "scene": {
           "xaxis": {
            "backgroundcolor": "#E5ECF6",
            "gridcolor": "white",
            "gridwidth": 2,
            "linecolor": "white",
            "showbackground": true,
            "ticks": "",
            "zerolinecolor": "white"
           },
           "yaxis": {
            "backgroundcolor": "#E5ECF6",
            "gridcolor": "white",
            "gridwidth": 2,
            "linecolor": "white",
            "showbackground": true,
            "ticks": "",
            "zerolinecolor": "white"
           },
           "zaxis": {
            "backgroundcolor": "#E5ECF6",
            "gridcolor": "white",
            "gridwidth": 2,
            "linecolor": "white",
            "showbackground": true,
            "ticks": "",
            "zerolinecolor": "white"
           }
          },
          "shapedefaults": {
           "line": {
            "color": "#2a3f5f"
           }
          },
          "ternary": {
           "aaxis": {
            "gridcolor": "white",
            "linecolor": "white",
            "ticks": ""
           },
           "baxis": {
            "gridcolor": "white",
            "linecolor": "white",
            "ticks": ""
           },
           "bgcolor": "#E5ECF6",
           "caxis": {
            "gridcolor": "white",
            "linecolor": "white",
            "ticks": ""
           }
          },
          "title": {
           "x": 0.05
          },
          "xaxis": {
           "automargin": true,
           "gridcolor": "white",
           "linecolor": "white",
           "ticks": "",
           "title": {
            "standoff": 15
           },
           "zerolinecolor": "white",
           "zerolinewidth": 2
          },
          "yaxis": {
           "automargin": true,
           "gridcolor": "white",
           "linecolor": "white",
           "ticks": "",
           "title": {
            "standoff": 15
           },
           "zerolinecolor": "white",
           "zerolinewidth": 2
          }
         }
        }
       }
      }
     },
     "metadata": {},
     "output_type": "display_data"
    }
   ],
   "source": [
    "# Import necessary libraries\n",
    "from ucimlrepo import fetch_ucirepo \n",
    "import pandas as pd\n",
    "from umap import UMAP\n",
    "import plotly.express as px\n",
    "import seaborn as sns\n",
    "import matplotlib.pyplot as plt\n",
    "\n",
    "# Fetch dataset from UCI\n",
    "dataset = fetch_ucirepo(id=109)  # Fetch dataset with id 53 (replace if needed)\n",
    "\n",
    "# Data as pandas DataFrames\n",
    "X = dataset.data.features  # Feature data\n",
    "y = dataset.data.targets    # Target data\n",
    "\n",
    "# X=X[:-60]\n",
    "# y=y[:-60]\n",
    "\n",
    "\n",
    "# Combine features and target into a single DataFrame\n",
    "df = pd.DataFrame(X, columns=dataset.data.feature_names)  # Create DataFrame for features\n",
    "df['species'] = y  # Add the target column (species)\n",
    "\n",
    "unique_values = pd.unique(y.iloc[:, 0])\n",
    "for i in range(len(unique_values)):\n",
    "    df['species'] = df['species'].replace(unique_values[i], i)\n",
    "\n",
    "X= df.drop('species', axis=1)\n",
    "y= df['species']\n",
    "\n",
    "\n",
    "\n",
    "# Display the first few rows of the DataFrame\n",
    "print(\"First few rows of the dataset:\")\n",
    "print(df.head())\n",
    "print(df.tail())\n",
    "print(\"\\n\")\n",
    "\n",
    "# Get detailed information about the DataFrame\n",
    "print(\"Detailed information about the DataFrame:\")\n",
    "print(df.info())\n",
    "print(\"\\n\")\n",
    "\n",
    "# Get summary statistics\n",
    "print(\"Summary statistics of the dataset:\")\n",
    "print(df.describe())\n",
    "print(\"\\n\")\n",
    "\n",
    "# Check for missing values\n",
    "print(\"Missing values in the dataset:\")\n",
    "print(df.isnull().sum())\n",
    "print(\"\\n\")\n",
    "\n",
    "# Get the count of different species\n",
    "species_counts = df['species'].value_counts()\n",
    "print(\"Counts of different species in the dataset:\")\n",
    "print(species_counts)\n",
    "print(\"\\n\")\n",
    "\n",
    "# Separate features for UMAP projection (excluding 'species' column)\n",
    "features = df.iloc[:, :-1]\n",
    "\n",
    "# UMAP for 2D and 3D projections\n",
    "umap_2d = UMAP(n_components=2, init='random', random_state=0)\n",
    "umap_3d = UMAP(n_components=3, init='random', random_state=0)\n",
    "\n",
    "# Perform UMAP projections\n",
    "proj_2d = umap_2d.fit_transform(features)  # 2D projection\n",
    "proj_3d = umap_3d.fit_transform(features)  # 3D projection\n",
    "\n",
    "# 2D Scatter plot using Plotly\n",
    "fig_2d = px.scatter(\n",
    "    proj_2d, x=0, y=1,\n",
    "    color=df['species'], labels={'color': 'species'}\n",
    ")\n",
    "\n",
    "# 3D Scatter plot using Plotly\n",
    "fig_3d = px.scatter_3d(\n",
    "    proj_3d, x=0, y=1, z=2,\n",
    "    color=df['species'], labels={'color': 'species'}\n",
    ")\n",
    "fig_3d.update_traces(marker_size=5)\n",
    "\n",
    "# Display the plots\n",
    "fig_2d.show()\n",
    "fig_3d.show()\n",
    "\n",
    "# Pairplot to visualize relationships (optional)\n",
    "# sns.pairplot(df, hue='species')\n",
    "# plt.title('Pairplot of Dataset')\n",
    "# plt.show()\n"
   ]
  },
  {
   "cell_type": "code",
   "execution_count": 107,
   "metadata": {},
   "outputs": [
    {
     "data": {
      "text/plain": [
       "[<matplotlib.lines.Line2D at 0x24140a28ec0>]"
      ]
     },
     "execution_count": 107,
     "metadata": {},
     "output_type": "execute_result"
    },
    {
     "data": {
      "image/png": "[encoded data removed]",
      "text/plain": [
       "<Figure size 640x480 with 1 Axes>"
      ]
     },
     "metadata": {},
     "output_type": "display_data"
    }
   ],
   "source": [
    "from sklearn.neighbors import NearestNeighbors\n",
    "from matplotlib import pyplot as plt\n",
    "import numpy as np\n",
    "\n",
    "neighbors = NearestNeighbors(n_neighbors=20)\n",
    "neighbors_fit = neighbors.fit(X)\n",
    "distances, indices = neighbors_fit.kneighbors(X)\n",
    "distances = np.sort(distances, axis=0)\n",
    "distances = distances[:,1]\n",
    "plt.plot(distances)"
   ]
  },
  {
   "cell_type": "code",
   "execution_count": 108,
   "metadata": {},
   "outputs": [
    {
     "name": "stdout",
     "output_type": "stream",
     "text": [
      "Extracting the clusters using DBSCAN...\n"
     ]
    },
    {
     "name": "stderr",
     "output_type": "stream",
     "text": [
      "c:\\Users\\91843\\Documents\\VsCode Codes\\Intuitionistic-FCM-Smote\\.venv\\Lib\\site-packages\\umap\\umap_.py:1945: UserWarning:\n",
      "\n",
      "n_jobs value 1 overridden to 1 by setting random_state. Use no seed for parallelism.\n",
      "\n"
     ]
    },
    {
     "name": "stdout",
     "output_type": "stream",
     "text": [
      "Silhouette Score for the clustering: 0.7664\n"
     ]
    },
    {
     "data": {
      "image/png": "[encoded data removed]",
      "text/plain": [
       "<Figure size 1000x700 with 1 Axes>"
      ]
     },
     "metadata": {},
     "output_type": "display_data"
    },
    {
     "name": "stdout",
     "output_type": "stream",
     "text": [
      "Number of clusters extracted: 2\n"
     ]
    }
   ],
   "source": [
    "from sklearn.cluster import DBSCAN\n",
    "from sklearn.metrics import silhouette_score\n",
    "from umap import UMAP\n",
    "import numpy as np\n",
    "import matplotlib.pyplot as plt\n",
    "import seaborn as sns\n",
    "\n",
    "def extract_k_clusters_with_dbscan_and_visualize(X, k, eps=0.5, min_samples=5):\n",
    "    \"\"\"\n",
    "    Extracts the first k clusters from the data using the DBSCAN algorithm, \n",
    "    reduces dimensions using UMAP, and visualizes the clusters, including noise points.\n",
    "    Also calculates and prints the silhouette score for the clustering.\n",
    "\n",
    "    Args:\n",
    "    - X: Feature matrix\n",
    "    - k: Number of clusters to extract\n",
    "    - eps: Maximum distance between two samples for them to be considered as in the same neighborhood.\n",
    "    - min_samples: Minimum number of samples in a neighborhood for a point to be considered as a core point.\n",
    "\n",
    "    Returns:\n",
    "    - k_clusters: List of the first k clusters (without reduced dimensions).\n",
    "    \"\"\"\n",
    "    # Step 1: Apply DBSCAN to get the clusters\n",
    "    dbscan = DBSCAN(eps=eps, min_samples=min_samples)\n",
    "    dbscan.fit(X)\n",
    "\n",
    "    # Get the cluster labels\n",
    "    cluster_labels = dbscan.labels_\n",
    "\n",
    "    # Step 2: Identify the first k clusters\n",
    "    unique_labels = np.unique(cluster_labels)\n",
    "    k_clusters = []\n",
    "    selected_clusters = []\n",
    "    selected_labels = []\n",
    "    \n",
    "    for label in unique_labels:\n",
    "        if label != -1 and len(k_clusters) < k:  # Ignore noise (-1) and get k clusters\n",
    "            cluster = X[cluster_labels == label]\n",
    "            k_clusters.append(cluster)\n",
    "            selected_clusters.append(cluster)\n",
    "            selected_labels.append(np.full(len(cluster), label))\n",
    "    \n",
    "    # Step 3: Add noise to selected data for visualization\n",
    "    noise = X[cluster_labels == -1]  # Extract noise points\n",
    "    if len(noise) > 0:\n",
    "        selected_clusters.append(noise)\n",
    "        selected_labels.append(np.full(len(noise), -1))  # Mark noise points as -1\n",
    "\n",
    "    # Concatenate all selected clusters into one matrix for UMAP\n",
    "    if len(selected_clusters) > 0:\n",
    "        X_selected = np.vstack(selected_clusters)\n",
    "        labels_selected = np.concatenate(selected_labels)\n",
    "    else:\n",
    "        X_selected = np.array([])  # Empty case\n",
    "        labels_selected = np.array([])\n",
    "    # Step 4: Reduce dimensions using UMAP\n",
    "    umap_2d = UMAP(n_components=2, random_state=42)\n",
    "    reduced_X = umap_2d.fit_transform(X_selected)\n",
    "\n",
    "\n",
    "\n",
    "    # Step 5: Visualize the reduced clusters, including noise\n",
    "    plt.figure(figsize=(10, 7))\n",
    "\n",
    "    # Generate a color palette for clusters (excluding noise, which is black)\n",
    "    palette = sns.color_palette(\"hsv\", len(np.unique(labels_selected)) - 1)  # Exclude noise from palette\n",
    "    \n",
    "    for label in np.unique(labels_selected):\n",
    "        if label == -1:\n",
    "            # Plot noise points in black\n",
    "            plt.scatter(reduced_X[labels_selected == label, 0], reduced_X[labels_selected == label, 1], \n",
    "                        c='black', label='Noise', s=15, alpha=0.6)\n",
    "        else:\n",
    "            # Plot clusters with different colors\n",
    "            plt.scatter(reduced_X[labels_selected == label, 0], reduced_X[labels_selected == label, 1], \n",
    "                        c=[palette[label] if label < len(palette) else 'gray'], \n",
    "                        label=f'Cluster {label}', s=15, alpha=0.7)\n",
    "    \n",
    "\n",
    "    non_noise_indices = cluster_labels != -1  # Exclude noise (-1) points\n",
    "    if np.unique(cluster_labels[non_noise_indices]).size > 1:\n",
    "        silhouette_avg = silhouette_score(X[non_noise_indices], cluster_labels[non_noise_indices])\n",
    "        print(f'Silhouette Score for the clustering: {silhouette_avg:.4f}')\n",
    "    else:\n",
    "        print('Silhouette score could not be calculated because only one cluster was found.')\n",
    "    # Set title and axis labels\n",
    "    plt.title(f'UMAP Projection of First {k} DBSCAN Clusters (with Noise)')\n",
    "    plt.xlabel('UMAP Dimension 1')\n",
    "    plt.ylabel('UMAP Dimension 2')\n",
    "    plt.legend()\n",
    "    plt.show()\n",
    "\n",
    "   \n",
    "\n",
    "    return k_clusters  # Only return the extracted clusters\n",
    "\n",
    "\n",
    "# Example Usage\n",
    "print(\"Extracting the clusters using DBSCAN...\")\n",
    "Clusters = extract_k_clusters_with_dbscan_and_visualize(X, k=300, eps=35, min_samples=13)\n",
    "print(\"Number of clusters extracted:\", len(Clusters))\n",
    "num_clusters = len(Clusters)\n"
   ]
  },
  {
   "cell_type": "code",
   "execution_count": 109,
   "metadata": {},
   "outputs": [],
   "source": [
    "import numpy as np\n",
    "from sklearn.metrics.pairwise import euclidean_distances\n",
    "from fcmeans import FCM\n",
    "from sklearn.neighbors import NearestNeighbors\n",
    "import copy\n",
    "import warnings\n",
    "import math\n",
    "import copy\n",
    "import numpy as np\n",
    "from sklearn.mixture import GaussianMixture\n",
    "from sklearn.utils import check_random_state\n",
    "from sklearn.metrics.pairwise import euclidean_distances\n",
    "from imblearn.over_sampling.base import BaseOverSampler\n",
    "from imblearn.over_sampling import RandomOverSampler\n",
    "from imblearn.exceptions import raise_isinstance_error\n",
    "from imblearn.utils import check_neighbors_object\n",
    "from imblearn.utils.deprecation import deprecate_parameter\n",
    "import seaborn as sns\n",
    "\n",
    "class FCMCENTERSMOTE(BaseOverSampler):\n",
    "\n",
    "    def __init__(self, sampling_strategy='auto', random_state=None, kmeans_args=None, smote_args=None,\n",
    "                 imbalance_ratio_threshold=1.0, density_power=None, use_minibatch_kmeans=True, n_jobs=1, **kwargs):\n",
    "        super(FCMCENTERSMOTE, self).__init__(sampling_strategy=sampling_strategy, **kwargs)\n",
    "        if kmeans_args is None:\n",
    "            kmeans_args = {}\n",
    "        if smote_args is None:\n",
    "            smote_args = {}\n",
    "        self.imbalance_ratio_threshold = imbalance_ratio_threshold\n",
    "        self.kmeans_args = copy.deepcopy(kmeans_args)\n",
    "        self.smote_args = copy.deepcopy(smote_args)\n",
    "        self.random_state = random_state\n",
    "        self.n_jobs = n_jobs\n",
    "        self.use_minibatch_kmeans = use_minibatch_kmeans\n",
    "        self.density_power = density_power\n",
    "\n",
    "    def _cluster(self, X):\n",
    "        fcm = FCM(**self.kmeans_args)\n",
    "        fcm.fit(X)\n",
    "        fcm_labels = fcm.predict(X)\n",
    "        cluster_assignment = np.asarray(fcm_labels)\n",
    "        return cluster_assignment\n",
    "\n",
    "    def _filter_clusters(self, X, y, cluster_assignment, minority_class_label):\n",
    "      largest_cluster_label = np.max(np.unique(cluster_assignment))\n",
    "      sparsity_factors = np.zeros((largest_cluster_label + 1,), dtype=np.float64)\n",
    "      minority_mask = (y == minority_class_label)\n",
    "      imbalance_ratio_threshold = self.imbalance_ratio_threshold\n",
    "\n",
    "      if isinstance(imbalance_ratio_threshold, dict):\n",
    "          imbalance_ratio_threshold = imbalance_ratio_threshold.get(minority_class_label, 1.0)\n",
    "\n",
    "      for i in np.unique(cluster_assignment):\n",
    "          cluster = X[cluster_assignment == i]\n",
    "          mask = minority_mask[cluster_assignment == i]\n",
    "          minority_count = np.sum(mask)\n",
    "          majority_count = np.sum(~mask)\n",
    "          imbalance_ratio = (majority_count + 1) / (minority_count + 1)\n",
    "\n",
    "          if (imbalance_ratio < imbalance_ratio_threshold) and (minority_count > 1):\n",
    "              distances = euclidean_distances(cluster[mask])\n",
    "              non_diagonal_distances = distances[~np.eye(distances.shape[0], dtype=bool)]\n",
    "              average_minority_distance = np.mean(non_diagonal_distances) if non_diagonal_distances.size > 0 else 0.0\n",
    "\n",
    "              if average_minority_distance == 0:\n",
    "                  average_minority_distance = 1e-1\n",
    "\n",
    "              density_factor = minority_count / (average_minority_distance ** self.density_power)\n",
    "              sparsity_factors[i] = 1 / density_factor\n",
    "\n",
    "      sparsity_sum = np.sum(sparsity_factors)\n",
    "      if sparsity_sum == 0:\n",
    "          sparsity_sum = 1\n",
    "\n",
    "      sampling_weights = sparsity_factors / sparsity_sum if sparsity_sum != 0 else np.full(sparsity_factors.shape, 1.0)\n",
    "      return sampling_weights\n",
    "    @staticmethod\n",
    "    def smote_oversample_with_point_value(X, y, point_index, sampling_ratio=1.0,smote_args= None,k=5):\n",
    "      if smote_args is not None and 'k_neighbors' in smote_args:\n",
    "            k = smote_args['k_neighbors']\n",
    "      minority_class = np.unique(y)[np.argmin(np.bincount(y))]\n",
    "      print(minority_class)\n",
    "      \n",
    "      minority_indices = np.where(y == minority_class)[0]\n",
    "      print(minority_indices)\n",
    "      print(\"point index\",point_index)\n",
    "      print(y[point_index] == minority_class)\n",
    "      if isinstance(point_index, int) and point_index < len(y) and y[point_index] == minority_class:\n",
    "        \n",
    "        num_minority_samples = len(minority_indices)\n",
    "        num_majority_samples = int(sampling_ratio * len(y)) - num_minority_samples\n",
    "\n",
    "        knn = NearestNeighbors(n_neighbors=k + 1)\n",
    "        knn.fit(X[minority_indices])\n",
    "        nn_indices = knn.kneighbors([X[point_index]], return_distance=False)[0][1:]\n",
    "\n",
    "        synthetic_samples = []\n",
    "        for i in range(num_minority_samples):\n",
    "            nn_index = np.random.choice(nn_indices)\n",
    "            diff = X[nn_index] - X[point_index]\n",
    "            synthetic_sample = X[point_index] + np.random.rand() * diff\n",
    "            synthetic_samples.append(synthetic_sample)\n",
    "            print(f\"Original point: {X[point_index]}\")\n",
    "            print(f\"Neighbor index: {nn_index}, Neighbor point: {X[nn_index]}\")\n",
    "            print(f\"Generated diff: {diff}\")\n",
    "            print(f\"Synthetic sample: {synthetic_sample}\")\n",
    "\n",
    "        synthetic_samples = np.array(synthetic_samples)\n",
    "\n",
    "        X_resampled = np.vstack((X, synthetic_samples))\n",
    "        y_resampled = np.hstack((y, np.full(len(synthetic_samples), minority_class)))\n",
    "\n",
    "        shuffle_indices = np.random.permutation(len(X_resampled))\n",
    "        X_resampled = X_resampled[shuffle_indices]\n",
    "        y_resampled = y_resampled[shuffle_indices]\n",
    "\n",
    "        return X_resampled, y_resampled\n",
    "      else:\n",
    "        return X, y\n",
    "      \n",
    "    def _fit_resample(self, X, y):\n",
    "        \"\"\"Resample the dataset.\n",
    "\n",
    "        Parameters\n",
    "        ----------\n",
    "        X : ndarray, shape (n_samples, n_features)\n",
    "            Matrix containing the data which have to be sampled.\n",
    "\n",
    "        y : ndarray, shape (n_samples, )\n",
    "            Corresponding label for each sample in X.\n",
    "\n",
    "        Returns\n",
    "        -------\n",
    "        X_resampled : ndarray, shape (n_samples_new, n_features)\n",
    "            The array containing the resampled data.\n",
    "\n",
    "        y_resampled : ndarray, shape (n_samples_new)\n",
    "            The corresponding labels of ``X_resampled``\n",
    "\n",
    "        \"\"\"\n",
    "        self._set_subalgorithm_params()\n",
    "\n",
    "        if self.density_power is None:\n",
    "            self.density_power = X.shape[1]\n",
    "\n",
    "        resampled = [ (X.copy(), y.copy()) ]\n",
    "        sampling_ratio = {k: v for k, v in self.sampling_strategy_.items()}\n",
    "        # sampling_strategy_ does not contain classes where n_samples 0\n",
    "        for class_label in np.unique(y):\n",
    "            if class_label not in sampling_ratio:\n",
    "                sampling_ratio[class_label] = 0\n",
    "        for minority_class_label, n_samples in sampling_ratio.items():\n",
    "            if n_samples == 0:\n",
    "                continue\n",
    "\n",
    "            cluster_assignment = self._cluster(X)\n",
    "            sampling_weights = self._filter_clusters(X, y, cluster_assignment, minority_class_label)\n",
    "            smote_args = self.smote_args.copy()\n",
    "            if np.count_nonzero(sampling_weights) > 0:\n",
    "                # perform k-means smote\n",
    "                for i in np.unique(cluster_assignment):\n",
    "                    cluster_X = X[cluster_assignment == i]\n",
    "                    cluster_y = y[cluster_assignment == i]\n",
    "                    if sampling_weights[i] > 0:\n",
    "                        # determine ratio for oversampling the current cluster\n",
    "                        target_ratio = {label: np.count_nonzero(cluster_y == label) for label in sampling_ratio}\n",
    "                        cluster_minority_count = np.count_nonzero(cluster_y == minority_class_label)\n",
    "                        generate_count = int(round(n_samples * sampling_weights[i]))\n",
    "                        target_ratio[minority_class_label] = generate_count + cluster_minority_count\n",
    "\n",
    "                        # make sure that cluster_y has more than 1 class, adding a random point otherwise\n",
    "                        remove_index = -1\n",
    "                        if np.unique(cluster_y).size < 2:\n",
    "                            remove_index = cluster_y.size\n",
    "                            cluster_X = np.append(cluster_X, np.zeros((1,cluster_X.shape[1])), axis=0)\n",
    "                            majority_class_label = next( key for key in sampling_ratio.keys() if key != minority_class_label )\n",
    "                            target_ratio[majority_class_label] = 1 + target_ratio[majority_class_label]\n",
    "                            cluster_y = np.append(cluster_y, np.asarray(majority_class_label).reshape((1,)), axis=0)\n",
    "\n",
    "                        # clear target ratio of labels not present in cluster\n",
    "                        for label in list(target_ratio.keys()):\n",
    "                            if label not in cluster_y:\n",
    "                                del target_ratio[label]\n",
    "\n",
    "                        # modify copy of the user defined smote_args to reflect computed parameters\n",
    "                        smote_args['sampling_strategy'] = target_ratio\n",
    "\n",
    "                        smote_args = self._validate_smote_args(smote_args, cluster_minority_count)\n",
    "                        # Get the center of the cluster to use as the point for SMOTE oversampling\n",
    "                        cluster_center = np.mean(cluster_X, axis=0)\n",
    "                        knn = NearestNeighbors(n_neighbors=1)\n",
    "                        knn.fit(X[np.where(y == np.unique(y)[np.argmin(np.bincount(y))])])  # Only fit on minority class points\n",
    "                        nearest_index = knn.kneighbors([cluster_center], return_distance=False)[0][0]\n",
    "                        k_value = smote_args['k_neighbors']\n",
    "                        X_resampled_cluster, y_resampled_cluster = self.smote_oversample_with_point_value(\n",
    "                            X, y, nearest_index, sampling_ratio=n_samples / X.shape[0],\n",
    "                            k=k_value)\n",
    "\n",
    "                        # if k_neighbors is 0, perform random oversampling instead of smote\n",
    "                        if 'k_neighbors' in smote_args and smote_args['k_neighbors'] == 0:\n",
    "                                oversampler_args = {}\n",
    "                                if 'random_state' in smote_args:\n",
    "                                    oversampler_args['random_state'] = smote_args['random_state']\n",
    "                                oversampler = RandomOverSampler(**oversampler_args)\n",
    "\n",
    "                        # finally, apply smote to cluster\n",
    "                        with warnings.catch_warnings():\n",
    "                            # ignore warnings about minority class getting bigger than majority class\n",
    "                            # since this would only be true within this cluster\n",
    "                            warnings.filterwarnings(action='ignore', category=UserWarning, message=r'After over-sampling, the number of samples \\(.*\\) in class .* will be larger than the number of samples in the majority class \\(class #.* \\-\\> .*\\)')\n",
    "                            knn = NearestNeighbors(n_neighbors=1)\n",
    "                            knn.fit(X[np.where(y == np.unique(y)[np.argmin(np.bincount(y))])])  # Only fit on minority class points\n",
    "                            nearest_index = knn.kneighbors([cluster_center], return_distance=False)[0][0]\n",
    "                            cluster_resampled_X, cluster_resampled_y = self.smote_oversample_with_point_value(\n",
    "                            X, y, nearest_index, sampling_ratio=n_samples / X.shape[0],\n",
    "                            k=smote_args['k_neighbors'])\n",
    "\n",
    "                        if remove_index > -1:\n",
    "                            # since SMOTE's results are ordered the same way as the data passed into it,\n",
    "                            # the temporarily added point is at the same index position as it was added.\n",
    "                            for l in [cluster_resampled_X, cluster_resampled_y, cluster_X, cluster_y]:\n",
    "                                np.delete(l, remove_index, 0)\n",
    "\n",
    "                        # add new generated samples to resampled\n",
    "                        resampled.append( (\n",
    "                            cluster_resampled_X[cluster_y.size:,:],\n",
    "                            cluster_resampled_y[cluster_y.size:]))\n",
    "            else:\n",
    "                # all weights are zero -> perform regular smote\n",
    "                warnings.warn('No minority clusters found for class {}. Performing regular SMOTE. Try changing the number of clusters.'.format(minority_class_label))\n",
    "                target_ratio = {label: np.count_nonzero(y == label) for label in sampling_ratio}\n",
    "                target_ratio[minority_class_label] = sampling_ratio[minority_class_label]\n",
    "                minority_count = np.count_nonzero(y == minority_class_label)\n",
    "                smote_args = self._validate_smote_args(smote_args, minority_count)\n",
    "                # Get the center of the cluster to use as the point for SMOTE oversampling\n",
    "                cluster_center = np.mean(cluster_X, axis=0)\n",
    "                knn = NearestNeighbors(n_neighbors=1)\n",
    "                knn.fit(X[np.where(y == np.unique(y)[np.argmin(np.bincount(y))])])  # Only fit on minority class points\n",
    "                nearest_index = knn.kneighbors([cluster_center], return_distance=False)[0][0]\n",
    "                X_resampled_cluster, y_resampled_cluster = self.smote_oversample_with_point_value(\n",
    "                    X, y, nearest_index, sampling_ratio=n_samples / X.shape[0],\n",
    "                            k=smote_args['k_neighbors'])\n",
    "\n",
    "\n",
    "        resampled = list(zip(*resampled))\n",
    "        if(len(resampled) > 0):\n",
    "            X_resampled = np.concatenate(resampled[0], axis=0)\n",
    "            y_resampled = np.concatenate(resampled[1], axis=0)\n",
    "        return X_resampled, y_resampled\n",
    "\n",
    "    def _validate_smote_args(self, smote_args, minority_count):\n",
    "      max_k_neighbors = minority_count - 1\n",
    "      if 'k' in smote_args and smote_args['k'] > max_k_neighbors:\n",
    "          smote_args['k'] = max_k_neighbors\n",
    "      return smote_args\n",
    "\n",
    "    def _set_subalgorithm_params(self):\n",
    "      if self.random_state is not None:\n",
    "          if 'random_state' not in self.smote_args:\n",
    "              self.smote_args['random_state'] = self.random_state\n",
    "          if 'random_state' not in self.kmeans_args:\n",
    "              self.kmeans_args['random_state'] = self.random_state\n",
    "\n",
    "      if self.n_jobs is not None:\n",
    "          if 'n_jobs' not in self.smote_args:\n",
    "              self.smote_args['n_jobs'] = self.n_jobs\n",
    "          if 'n_jobs' not in self.kmeans_args:\n",
    "              if not self.use_minibatch_kmeans:\n",
    "                  self.kmeans_args['n_jobs'] = self.n_jobs\n"
   ]
  },
  {
   "cell_type": "code",
   "execution_count": 110,
   "metadata": {},
   "outputs": [
    {
     "name": "stdout",
     "output_type": "stream",
     "text": [
      "Class 0 has 59 instances\n",
      "Class 1 has 71 instances\n",
      "Class 2 has 48 instances\n",
      "2\n",
      "[130 131 132 133 134 135 136 137 138 139 140 141 142 143 144 145 146 147\n",
      " 148 149 150 151 152 153 154 155 156 157 158 159 160 161 162 163 164 165\n",
      " 166 167 168 169 170 171 172 173 174 175 176 177]\n",
      "point index 27\n",
      "False\n",
      "2\n",
      "[130 131 132 133 134 135 136 137 138 139 140 141 142 143 144 145 146 147\n",
      " 148 149 150 151 152 153 154 155 156 157 158 159 160 161 162 163 164 165\n",
      " 166 167 168 169 170 171 172 173 174 175 176 177]\n",
      "point index 27\n",
      "False\n",
      "2\n",
      "[130 131 132 133 134 135 136 137 138 139 140 141 142 143 144 145 146 147\n",
      " 148 149 150 151 152 153 154 155 156 157 158 159 160 161 162 163 164 165\n",
      " 166 167 168 169 170 171 172 173 174 175 176 177]\n",
      "point index 2\n",
      "False\n",
      "Class 0 has 62 instances after oversampling\n",
      "Class 1 has 142 instances after oversampling\n",
      "Class 2 has 96 instances after oversampling\n"
     ]
    },
    {
     "name": "stderr",
     "output_type": "stream",
     "text": [
      "C:\\Users\\91843\\AppData\\Local\\Temp\\ipykernel_4276\\1201529948.py:230: UserWarning:\n",
      "\n",
      "No minority clusters found for class 2. Performing regular SMOTE. Try changing the number of clusters.\n",
      "\n"
     ]
    },
    {
     "data": {
      "text/plain": [
       "[None, None, None]"
      ]
     },
     "execution_count": 110,
     "metadata": {},
     "output_type": "execute_result"
    }
   ],
   "source": [
    "import numpy as np\n",
    "\n",
    "# Calcul des instances par classe\n",
    "class_counts = dict(zip(*np.unique(y, return_counts=True)))\n",
    "\n",
    "# Affichage du nombre d'instances par classe\n",
    "for label, count in class_counts.items():\n",
    "    print('Class {} has {} instances'.format(label, count))\n",
    "\n",
    "# Création et utilisation de FCM_smote\n",
    "FCM_smote = FCMCENTERSMOTE(\n",
    "    kmeans_args={'n_clusters': num_clusters},\n",
    "    smote_args={'k_neighbors': 5},\n",
    "    imbalance_ratio_threshold=1,\n",
    "    density_power=4\n",
    ")\n",
    "X_resampled, y_resampled = FCM_smote.fit_resample(X.values, y.values)\n",
    "\n",
    "[print('Class {} has {} instances after oversampling'.format(label, count))\n",
    " for label, count in zip(*np.unique(y_resampled, return_counts=True))]"
   ]
  },
  {
   "cell_type": "code",
   "execution_count": 111,
   "metadata": {},
   "outputs": [
    {
     "name": "stderr",
     "output_type": "stream",
     "text": [
      "c:\\Users\\91843\\Documents\\VsCode Codes\\Intuitionistic-FCM-Smote\\.venv\\Lib\\site-packages\\sklearn\\base.py:493: UserWarning:\n",
      "\n",
      "X does not have valid feature names, but StandardScaler was fitted with feature names\n",
      "\n",
      "c:\\Users\\91843\\Documents\\VsCode Codes\\Intuitionistic-FCM-Smote\\.venv\\Lib\\site-packages\\umap\\umap_.py:1945: UserWarning:\n",
      "\n",
      "n_jobs value 1 overridden to 1 by setting random_state. Use no seed for parallelism.\n",
      "\n"
     ]
    },
    {
     "data": {
      "application/vnd.plotly.v1+json": {
       "config": {
        "plotlyServerURL": "https://plot.ly"
       },
       "data": [
        {
         "hovertemplate": "is_synthetic=Original<br>UMAP1=%{x}<br>UMAP2=%{y}<br>Class=%{marker.color}<extra></extra>",
         "legendgroup": "Original",
         "marker": {
          "color": [
           0,
           0,
           0,
           0,
           0,
           0,
           0,
           0,
           0,
           0,
           0,
           0,
           0,
           0,
           0,
           0,
           0,
           0,
           0,
           0,
           0,
           0,
           0,
           0,
           0,
           0,
           0,
           0,
           0,
           0,
           0,
           0,
           0,
           0,
           0,
           0,
           0,
           0,
           0,
           0,
           0,
           0,
           0,
           0,
           0,
           0,
           0,
           0,
           0,
           0,
           0,
           0,
           0,
           0,
           0,
           0,
           0,
           0,
           0,
           1,
           1,
           1,
           1,
           1,
           1,
           1,
           1,
           1,
           1,
           1,
           1,
           1,
           1,
           1,
           1,
           1,
           1,
           1,
           1,
           1,
           1,
           1,
           1,
           1,
           1,
           1,
           1,
           1,
           1,
           1,
           1,
           1,
           1,
           1,
           1,
           1,
           1,
           1,
           1,
           1,
           1,
           1,
           1,
           1,
           1,
           1,
           1,
           1,
           1,
           1,
           1,
           1,
           1,
           1,
           1,
           1,
           1,
           1,
           1,
           1,
           1,
           1,
           1,
           1,
           1,
           1,
           1,
           1,
           1,
           1,
           2,
           2,
           2,
           2,
           2,
           2,
           2,
           2,
           2,
           2,
           2,
           2,
           2,
           2,
           2,
           2,
           2,
           2,
           2,
           2,
           2,
           2,
           2,
           2,
           2,
           2,
           2,
           2,
           2,
           2,
           2,
           2,
           2,
           2,
           2,
           2,
           2,
           2,
           2,
           2,
           2,
           2,
           2,
           2,
           2,
           2,
           2,
           2
          ],
          "coloraxis": "coloraxis",
          "symbol": "circle"
         },
         "mode": "markers",
         "name": "Original",
         "orientation": "v",
         "showlegend": true,
         "type": "scatter",
         "x": [
          0.6186701655387878,
          1.4058806896209717,
          1.1685868501663208,
          0.3986881673336029,
          2.186595916748047,
          0.5290305614471436,
          1.221411108970642,
          1.659183144569397,
          1.0518742799758911,
          0.8131557703018188,
          0.7102685570716858,
          1.5948337316513062,
          1.5020869970321655,
          0.8083430528640747,
          0.4895646572113037,
          1.4725875854492188,
          1.409927487373352,
          1.5636886358261108,
          0.526679515838623,
          1.1253124475479126,
          0.5841243863105774,
          1.8170815706253052,
          1.4494659900665283,
          1.9764636754989624,
          2.169189453125,
          2.308945417404175,
          1.5408949851989746,
          1.7214339971542358,
          2.0138919353485107,
          1.1744478940963745,
          1.1825921535491943,
          0.7343792915344238,
          1.787805199623108,
          1.6630864143371582,
          1.9353981018066406,
          1.8715589046478271,
          1.8540754318237305,
          2.101177453994751,
          1.744235873222351,
          0.8366737961769104,
          0.5399114489555359,
          1.7135350704193115,
          0.504231333732605,
          1.849522590637207,
          1.140366792678833,
          1.5819913148880005,
          0.8771881461143494,
          0.812057614326477,
          1.1442997455596924,
          0.5817533135414124,
          0.9355292916297913,
          1.3051857948303223,
          0.3422601521015167,
          1.534471035003662,
          0.8188817501068115,
          1.062661051750183,
          0.534761369228363,
          1.441333293914795,
          0.4090695083141327,
          5.034153938293457,
          13.25173568725586,
          13.262722969055176,
          4.898621559143066,
          3.7094717025756836,
          8.133223533630371,
          2.6352908611297607,
          4.166747570037842,
          5.319879055023193,
          13.361709594726562,
          6.426745891571045,
          7.3499436378479,
          2.483809232711792,
          5.570574760437012,
          2.217884063720703,
          3.447354316711426,
          5.4670915603637695,
          4.828487873077393,
          5.704837799072266,
          6.43195104598999,
          4.076066493988037,
          4.52430534362793,
          4.350396156311035,
          7.8555169105529785,
          11.797962188720703,
          5.3649678230285645,
          4.561142921447754,
          8.069784164428711,
          7.827601909637451,
          7.007322788238525,
          7.586169719696045,
          7.527542591094971,
          7.446348190307617,
          7.636561393737793,
          3.8690645694732666,
          3.520949125289917,
          6.4012908935546875,
          10.03921890258789,
          4.5056538581848145,
          3.7602603435516357,
          3.8951423168182373,
          4.660544395446777,
          5.587779521942139,
          5.631012439727783,
          6.071437835693359,
          5.396600246429443,
          7.595870018005371,
          5.695907115936279,
          7.534210681915283,
          6.093003273010254,
          5.242109775543213,
          4.5121684074401855,
          5.681491851806641,
          8.066216468811035,
          6.964585304260254,
          6.050009727478027,
          8.15614128112793,
          5.863779544830322,
          4.756930828094482,
          10.599974632263184,
          5.899528503417969,
          5.378724575042725,
          2.666524887084961,
          4.12394905090332,
          4.3445000648498535,
          4.505166053771973,
          5.846174240112305,
          5.989370822906494,
          6.287892818450928,
          6.208667755126953,
          6.66657829284668,
          10.079277038574219,
          10.259123802185059,
          10.304239273071289,
          10.26127815246582,
          12.607304573059082,
          12.50381088256836,
          13.035053253173828,
          13.09827995300293,
          11.843780517578125,
          15.421906471252441,
          15.343789100646973,
          10.168352127075195,
          15.393985748291016,
          11.88230037689209,
          10.046821594238281,
          10.135720252990723,
          11.74643325805664,
          12.383131980895996,
          11.956755638122559,
          13.493332862854004,
          13.305267333984375,
          13.4799222946167,
          13.307531356811523,
          12.068853378295898,
          12.55887508392334,
          12.261200904846191,
          12.06129264831543,
          15.522330284118652,
          11.703292846679688,
          11.643320083618164,
          12.381682395935059,
          15.178630828857422,
          15.460658073425293,
          10.159772872924805,
          11.24517822265625,
          11.816250801086426,
          12.456040382385254,
          11.101282119750977,
          12.449361801147461,
          13.10067081451416,
          10.416677474975586,
          11.046761512756348,
          11.482159614562988,
          12.240256309509277,
          12.373810768127441,
          13.403525352478027,
          13.3035306930542,
          12.273650169372559
         ],
         "xaxis": "x",
         "y": [
          9.200030326843262,
          9.60550594329834,
          10.244691848754883,
          9.994711875915527,
          10.696856498718262,
          10.24629020690918,
          9.661429405212402,
          10.566712379455566,
          9.505480766296387,
          9.604480743408203,
          10.17032241821289,
          9.630972862243652,
          9.824508666992188,
          10.100936889648438,
          10.261358261108398,
          10.810934066772461,
          10.729153633117676,
          10.818032264709473,
          10.330328941345215,
          8.993536949157715,
          9.108742713928223,
          9.14939022064209,
          9.693346977233887,
          9.73441219329834,
          9.842376708984375,
          10.770648002624512,
          10.294189453125,
          9.55423355102539,
          10.462709426879883,
          9.48718547821045,
          10.392436027526855,
          10.349550247192383,
          10.027033805847168,
          10.866815567016602,
          10.359271049499512,
          9.699539184570312,
          10.565019607543945,
          9.877969741821289,
          9.60335922241211,
          9.058820724487305,
          9.214165687561035,
          9.118673324584961,
          9.80354118347168,
          9.007780075073242,
          9.142931938171387,
          9.045476913452148,
          9.315533638000488,
          9.448763847351074,
          10.088390350341797,
          10.293038368225098,
          9.652907371520996,
          9.904253005981445,
          9.966955184936523,
          10.855175971984863,
          9.100544929504395,
          10.171348571777344,
          9.182281494140625,
          10.691044807434082,
          9.958184242248535,
          6.4149627685546875,
          3.068474054336548,
          3.090838670730591,
          6.422077655792236,
          7.287886619567871,
          8.967140197753906,
          9.616464614868164,
          6.993881702423096,
          7.4101409912109375,
          3.164799451828003,
          20.331409454345703,
          7.390487194061279,
          9.947123527526855,
          9.280584335327148,
          10.697876930236816,
          7.589658260345459,
          6.5949249267578125,
          6.537562847137451,
          6.486982345581055,
          20.336801528930664,
          8.63120174407959,
          7.325636863708496,
          7.807661056518555,
          9.242386817932129,
          1.7882177829742432,
          10.346776962280273,
          7.856245040893555,
          9.094533920288086,
          9.264150619506836,
          8.669264793395996,
          9.226062774658203,
          8.123358726501465,
          7.940961837768555,
          7.993462562561035,
          7.761417865753174,
          7.5602707862854,
          20.306102752685547,
          4.558033466339111,
          7.132497310638428,
          7.130475044250488,
          8.064058303833008,
          7.055178165435791,
          6.882724285125732,
          9.811203956604004,
          7.374464988708496,
          7.427760124206543,
          7.812288284301758,
          7.185543060302734,
          7.775287628173828,
          7.363790035247803,
          10.234465599060059,
          9.812200546264648,
          9.466504096984863,
          8.780134201049805,
          8.951345443725586,
          9.630640029907227,
          9.18331241607666,
          7.269536972045898,
          8.06643295288086,
          3.1990294456481934,
          7.582755088806152,
          10.009425163269043,
          10.80392837524414,
          8.765998840332031,
          9.691330909729004,
          9.822352409362793,
          9.640506744384766,
          9.539552688598633,
          9.138782501220703,
          9.229936599731445,
          8.41180419921875,
          4.514048099517822,
          4.294363975524902,
          4.2575883865356445,
          4.273016452789307,
          2.577104091644287,
          2.4705185890197754,
          0.5659905672073364,
          0.6070032119750977,
          2.0025382041931152,
          1.539564847946167,
          1.6160961389541626,
          3.308946132659912,
          1.5718027353286743,
          2.0099918842315674,
          3.1367011070251465,
          3.1933748722076416,
          1.6553442478179932,
          0.09662371128797531,
          -0.7357795834541321,
          -1.4690214395523071,
          -1.8863469362258911,
          -1.6962779760360718,
          -1.958970308303833,
          -0.654273509979248,
          2.512573719024658,
          0.3891952931880951,
          -0.6063222885131836,
          1.4373606443405151,
          -1.3433879613876343,
          -1.3429042100906372,
          -0.06567491590976715,
          1.7548190355300903,
          1.4884405136108398,
          3.2307868003845215,
          -0.5923243761062622,
          1.765480637550354,
          -1.464624285697937,
          -0.5738434791564941,
          -1.4829413890838623,
          -1.8899821043014526,
          3.254891872406006,
          -0.5261399745941162,
          -0.6409493684768677,
          0.36573082208633423,
          -1.0919607877731323,
          -1.2035022974014282,
          -1.078275203704834,
          -1.0132991075515747
         ],
         "yaxis": "y"
        },
        {
         "hovertemplate": "is_synthetic=Synthetic<br>UMAP1=%{x}<br>UMAP2=%{y}<br>Class=%{marker.color}<extra></extra>",
         "legendgroup": "Synthetic",
         "marker": {
          "color": [
           0,
           0,
           0,
           1,
           1,
           1,
           1,
           1,
           1,
           1,
           1,
           1,
           1,
           1,
           1,
           1,
           1,
           1,
           1,
           1,
           1,
           1,
           1,
           1,
           1,
           1,
           1,
           1,
           1,
           1,
           1,
           1,
           1,
           1,
           1,
           1,
           1,
           1,
           1,
           1,
           1,
           1,
           1,
           1,
           1,
           1,
           1,
           1,
           1,
           1,
           1,
           1,
           1,
           1,
           1,
           1,
           1,
           1,
           1,
           1,
           1,
           1,
           1,
           1,
           1,
           1,
           1,
           1,
           1,
           1,
           1,
           1,
           1,
           1,
           2,
           2,
           2,
           2,
           2,
           2,
           2,
           2,
           2,
           2,
           2,
           2,
           2,
           2,
           2,
           2,
           2,
           2,
           2,
           2,
           2,
           2,
           2,
           2,
           2,
           2,
           2,
           2,
           2,
           2,
           2,
           2,
           2,
           2,
           2,
           2,
           2,
           2,
           2,
           2,
           2,
           2,
           2,
           2,
           2,
           2,
           2,
           2
          ],
          "coloraxis": "coloraxis",
          "symbol": "diamond"
         },
         "mode": "markers",
         "name": "Synthetic",
         "orientation": "v",
         "showlegend": true,
         "type": "scatter",
         "x": [
          0.697614312171936,
          1.4800885915756226,
          0.38798385858535767,
          5.022406578063965,
          13.321210861206055,
          13.199684143066406,
          4.786608695983887,
          3.6800687313079834,
          8.079715728759766,
          2.6835007667541504,
          4.192266464233398,
          5.377272605895996,
          13.306151390075684,
          6.478152275085449,
          7.382730960845947,
          2.3629724979400635,
          5.631742477416992,
          2.2040653228759766,
          3.443598985671997,
          5.4707932472229,
          4.777645587921143,
          5.684421539306641,
          6.453770637512207,
          4.003901481628418,
          4.521702289581299,
          4.416024208068848,
          7.897862911224365,
          11.837209701538086,
          5.3257670402526855,
          4.540318489074707,
          8.098346710205078,
          7.7817840576171875,
          7.0816755294799805,
          7.478912353515625,
          7.624983787536621,
          7.417572975158691,
          7.645538806915283,
          4.005359172821045,
          3.5840675830841064,
          6.450177192687988,
          10.031692504882812,
          4.3882222175598145,
          3.7642621994018555,
          3.9175000190734863,
          4.646667003631592,
          5.562581539154053,
          5.702725410461426,
          6.007166385650635,
          5.442126750946045,
          7.571157455444336,
          5.706626892089844,
          7.6012654304504395,
          6.0366034507751465,
          5.2713470458984375,
          4.590001106262207,
          5.734211444854736,
          7.986939907073975,
          6.9940409660339355,
          6.050732135772705,
          8.201645851135254,
          5.788338661193848,
          4.772485733032227,
          10.5970458984375,
          5.962831974029541,
          5.335255146026611,
          2.6610424518585205,
          4.149523735046387,
          4.311908721923828,
          4.469141006469727,
          5.907248020172119,
          6.077092170715332,
          6.34298849105835,
          6.214962482452393,
          6.693614959716797,
          10.092936515808105,
          10.285871505737305,
          10.357413291931152,
          10.315713882446289,
          12.720061302185059,
          12.545886039733887,
          12.983473777770996,
          13.106067657470703,
          11.876973152160645,
          15.487067222595215,
          15.335478782653809,
          10.193676948547363,
          15.404597282409668,
          11.874285697937012,
          10.062328338623047,
          10.210131645202637,
          11.698714256286621,
          12.414005279541016,
          12.10756778717041,
          13.469254493713379,
          13.310759544372559,
          13.489803314208984,
          13.248148918151855,
          12.086732864379883,
          12.527074813842773,
          12.261463165283203,
          12.071016311645508,
          15.50295639038086,
          11.650941848754883,
          11.711833000183105,
          12.409249305725098,
          15.17717456817627,
          15.236739158630371,
          10.141154289245605,
          11.253955841064453,
          11.782912254333496,
          12.461301803588867,
          11.103866577148438,
          12.46744155883789,
          13.20545768737793,
          10.419158935546875,
          11.077417373657227,
          11.412676811218262,
          12.285094261169434,
          12.29532241821289,
          13.423234939575195,
          13.284411430358887,
          12.299456596374512
         ],
         "xaxis": "x",
         "y": [
          9.215797424316406,
          10.75814437866211,
          9.943459510803223,
          6.424250602722168,
          3.1386051177978516,
          3.0289018154144287,
          6.480828285217285,
          7.189504623413086,
          8.794435501098633,
          9.575200080871582,
          6.9700493812561035,
          7.394631862640381,
          3.1083810329437256,
          20.383028030395508,
          7.40155553817749,
          9.927940368652344,
          9.311125755310059,
          10.6565523147583,
          7.522132873535156,
          6.615126132965088,
          6.554996013641357,
          6.511902809143066,
          20.35888671875,
          8.625259399414062,
          7.349098205566406,
          7.775677680969238,
          9.198528289794922,
          1.8333121538162231,
          10.346704483032227,
          7.853279113769531,
          9.070914268493652,
          9.317957878112793,
          8.600584030151367,
          9.154712677001953,
          8.01531982421875,
          8.135424613952637,
          7.90656042098999,
          7.808347702026367,
          7.591963768005371,
          20.35504913330078,
          4.566524982452393,
          7.061761856079102,
          7.1111531257629395,
          8.079353332519531,
          6.989020824432373,
          6.916841506958008,
          9.769981384277344,
          7.292137622833252,
          7.306911945343018,
          7.806943893432617,
          7.120606422424316,
          7.740756034851074,
          7.323587417602539,
          10.238526344299316,
          9.898523330688477,
          9.448169708251953,
          8.705143928527832,
          8.932950019836426,
          9.6315336227417,
          9.207303047180176,
          7.344300270080566,
          8.071627616882324,
          3.1905689239501953,
          7.634660243988037,
          10.00011157989502,
          10.800439834594727,
          8.748104095458984,
          9.674070358276367,
          9.798377990722656,
          9.654088020324707,
          9.428003311157227,
          9.175065994262695,
          9.163287162780762,
          8.429607391357422,
          4.5264129638671875,
          4.268466949462891,
          4.214103698730469,
          4.247182846069336,
          2.6885576248168945,
          2.515061378479004,
          0.5126546025276184,
          0.6164621114730835,
          2.05234432220459,
          1.5023446083068848,
          1.6250208616256714,
          3.3217830657958984,
          1.5634828805923462,
          1.949399709701538,
          3.1486825942993164,
          3.269033432006836,
          1.6724627017974854,
          0.09418818354606628,
          -0.6439995765686035,
          -1.4665000438690186,
          -1.8998196125030518,
          -1.6678037643432617,
          -1.923470139503479,
          -0.6139806509017944,
          2.4795303344726562,
          0.4098735749721527,
          -0.6381779313087463,
          1.4524954557418823,
          -1.326459288597107,
          -1.30648672580719,
          0.008079180493950844,
          1.7536243200302124,
          1.705524206161499,
          3.197545051574707,
          -0.6523224115371704,
          1.6583278179168701,
          -1.4478622674942017,
          -0.5765743851661682,
          -1.4884932041168213,
          -1.9198722839355469,
          3.2484800815582275,
          -0.5601036548614502,
          -0.5852450132369995,
          0.39058127999305725,
          -0.9932833909988403,
          -1.2316808700561523,
          -1.0855664014816284,
          -1.0734984874725342
         ],
         "yaxis": "y"
        }
       ],
       "layout": {
        "coloraxis": {
         "colorbar": {
          "title": {
           "text": "Class"
          }
         },
         "colorscale": [
          [
           0,
           "#0d0887"
          ],
          [
           0.1111111111111111,
           "#46039f"
          ],
          [
           0.2222222222222222,
           "#7201a8"
          ],
          [
           0.3333333333333333,
           "#9c179e"
          ],
          [
           0.4444444444444444,
           "#bd3786"
          ],
          [
           0.5555555555555556,
           "#d8576b"
          ],
          [
           0.6666666666666666,
           "#ed7953"
          ],
          [
           0.7777777777777778,
           "#fb9f3a"
          ],
          [
           0.8888888888888888,
           "#fdca26"
          ],
          [
           1,
           "#f0f921"
          ]
         ]
        },
        "legend": {
         "title": {
          "text": "is_synthetic"
         },
         "tracegroupgap": 0
        },
        "template": {
         "data": {
          "bar": [
           {
            "error_x": {
             "color": "#2a3f5f"
            },
            "error_y": {
             "color": "#2a3f5f"
            },
            "marker": {
             "line": {
              "color": "#E5ECF6",
              "width": 0.5
             },
             "pattern": {
              "fillmode": "overlay",
              "size": 10,
              "solidity": 0.2
             }
            },
            "type": "bar"
           }
          ],
          "barpolar": [
           {
            "marker": {
             "line": {
              "color": "#E5ECF6",
              "width": 0.5
             },
             "pattern": {
              "fillmode": "overlay",
              "size": 10,
              "solidity": 0.2
             }
            },
            "type": "barpolar"
           }
          ],
          "carpet": [
           {
            "aaxis": {
             "endlinecolor": "#2a3f5f",
             "gridcolor": "white",
             "linecolor": "white",
             "minorgridcolor": "white",
             "startlinecolor": "#2a3f5f"
            },
            "baxis": {
             "endlinecolor": "#2a3f5f",
             "gridcolor": "white",
             "linecolor": "white",
             "minorgridcolor": "white",
             "startlinecolor": "#2a3f5f"
            },
            "type": "carpet"
           }
          ],
          "choropleth": [
           {
            "colorbar": {
             "outlinewidth": 0,
             "ticks": ""
            },
            "type": "choropleth"
           }
          ],
          "contour": [
           {
            "colorbar": {
             "outlinewidth": 0,
             "ticks": ""
            },
            "colorscale": [
             [
              0,
              "#0d0887"
             ],
             [
              0.1111111111111111,
              "#46039f"
             ],
             [
              0.2222222222222222,
              "#7201a8"
             ],
             [
              0.3333333333333333,
              "#9c179e"
             ],
             [
              0.4444444444444444,
              "#bd3786"
             ],
             [
              0.5555555555555556,
              "#d8576b"
             ],
             [
              0.6666666666666666,
              "#ed7953"
             ],
             [
              0.7777777777777778,
              "#fb9f3a"
             ],
             [
              0.8888888888888888,
              "#fdca26"
             ],
             [
              1,
              "#f0f921"
             ]
            ],
            "type": "contour"
           }
          ],
          "contourcarpet": [
           {
            "colorbar": {
             "outlinewidth": 0,
             "ticks": ""
            },
            "type": "contourcarpet"
           }
          ],
          "heatmap": [
           {
            "colorbar": {
             "outlinewidth": 0,
             "ticks": ""
            },
            "colorscale": [
             [
              0,
              "#0d0887"
             ],
             [
              0.1111111111111111,
              "#46039f"
             ],
             [
              0.2222222222222222,
              "#7201a8"
             ],
             [
              0.3333333333333333,
              "#9c179e"
             ],
             [
              0.4444444444444444,
              "#bd3786"
             ],
             [
              0.5555555555555556,
              "#d8576b"
             ],
             [
              0.6666666666666666,
              "#ed7953"
             ],
             [
              0.7777777777777778,
              "#fb9f3a"
             ],
             [
              0.8888888888888888,
              "#fdca26"
             ],
             [
              1,
              "#f0f921"
             ]
            ],
            "type": "heatmap"
           }
          ],
          "heatmapgl": [
           {
            "colorbar": {
             "outlinewidth": 0,
             "ticks": ""
            },
            "colorscale": [
             [
              0,
              "#0d0887"
             ],
             [
              0.1111111111111111,
              "#46039f"
             ],
             [
              0.2222222222222222,
              "#7201a8"
             ],
             [
              0.3333333333333333,
              "#9c179e"
             ],
             [
              0.4444444444444444,
              "#bd3786"
             ],
             [
              0.5555555555555556,
              "#d8576b"
             ],
             [
              0.6666666666666666,
              "#ed7953"
             ],
             [
              0.7777777777777778,
              "#fb9f3a"
             ],
             [
              0.8888888888888888,
              "#fdca26"
             ],
             [
              1,
              "#f0f921"
             ]
            ],
            "type": "heatmapgl"
           }
          ],
          "histogram": [
           {
            "marker": {
             "pattern": {
              "fillmode": "overlay",
              "size": 10,
              "solidity": 0.2
             }
            },
            "type": "histogram"
           }
          ],
          "histogram2d": [
           {
            "colorbar": {
             "outlinewidth": 0,
             "ticks": ""
            },
            "colorscale": [
             [
              0,
              "#0d0887"
             ],
             [
              0.1111111111111111,
              "#46039f"
             ],
             [
              0.2222222222222222,
              "#7201a8"
             ],
             [
              0.3333333333333333,
              "#9c179e"
             ],
             [
              0.4444444444444444,
              "#bd3786"
             ],
             [
              0.5555555555555556,
              "#d8576b"
             ],
             [
              0.6666666666666666,
              "#ed7953"
             ],
             [
              0.7777777777777778,
              "#fb9f3a"
             ],
             [
              0.8888888888888888,
              "#fdca26"
             ],
             [
              1,
              "#f0f921"
             ]
            ],
            "type": "histogram2d"
           }
          ],
          "histogram2dcontour": [
           {
            "colorbar": {
             "outlinewidth": 0,
             "ticks": ""
            },
            "colorscale": [
             [
              0,
              "#0d0887"
             ],
             [
              0.1111111111111111,
              "#46039f"
             ],
             [
              0.2222222222222222,
              "#7201a8"
             ],
             [
              0.3333333333333333,
              "#9c179e"
             ],
             [
              0.4444444444444444,
              "#bd3786"
             ],
             [
              0.5555555555555556,
              "#d8576b"
             ],
             [
              0.6666666666666666,
              "#ed7953"
             ],
             [
              0.7777777777777778,
              "#fb9f3a"
             ],
             [
              0.8888888888888888,
              "#fdca26"
             ],
             [
              1,
              "#f0f921"
             ]
            ],
            "type": "histogram2dcontour"
           }
          ],
          "mesh3d": [
           {
            "colorbar": {
             "outlinewidth": 0,
             "ticks": ""
            },
            "type": "mesh3d"
           }
          ],
          "parcoords": [
           {
            "line": {
             "colorbar": {
              "outlinewidth": 0,
              "ticks": ""
             }
            },
            "type": "parcoords"
           }
          ],
          "pie": [
           {
            "automargin": true,
            "type": "pie"
           }
          ],
          "scatter": [
           {
            "fillpattern": {
             "fillmode": "overlay",
             "size": 10,
             "solidity": 0.2
            },
            "type": "scatter"
           }
          ],
          "scatter3d": [
           {
            "line": {
             "colorbar": {
              "outlinewidth": 0,
              "ticks": ""
             }
            },
            "marker": {
             "colorbar": {
              "outlinewidth": 0,
              "ticks": ""
             }
            },
            "type": "scatter3d"
           }
          ],
          "scattercarpet": [
           {
            "marker": {
             "colorbar": {
              "outlinewidth": 0,
              "ticks": ""
             }
            },
            "type": "scattercarpet"
           }
          ],
          "scattergeo": [
           {
            "marker": {
             "colorbar": {
              "outlinewidth": 0,
              "ticks": ""
             }
            },
            "type": "scattergeo"
           }
          ],
          "scattergl": [
           {
            "marker": {
             "colorbar": {
              "outlinewidth": 0,
              "ticks": ""
             }
            },
            "type": "scattergl"
           }
          ],
          "scattermapbox": [
           {
            "marker": {
             "colorbar": {
              "outlinewidth": 0,
              "ticks": ""
             }
            },
            "type": "scattermapbox"
           }
          ],
          "scatterpolar": [
           {
            "marker": {
             "colorbar": {
              "outlinewidth": 0,
              "ticks": ""
             }
            },
            "type": "scatterpolar"
           }
          ],
          "scatterpolargl": [
           {
            "marker": {
             "colorbar": {
              "outlinewidth": 0,
              "ticks": ""
             }
            },
            "type": "scatterpolargl"
           }
          ],
          "scatterternary": [
           {
            "marker": {
             "colorbar": {
              "outlinewidth": 0,
              "ticks": ""
             }
            },
            "type": "scatterternary"
           }
          ],
          "surface": [
           {
            "colorbar": {
             "outlinewidth": 0,
             "ticks": ""
            },
            "colorscale": [
             [
              0,
              "#0d0887"
             ],
             [
              0.1111111111111111,
              "#46039f"
             ],
             [
              0.2222222222222222,
              "#7201a8"
             ],
             [
              0.3333333333333333,
              "#9c179e"
             ],
             [
              0.4444444444444444,
              "#bd3786"
             ],
             [
              0.5555555555555556,
              "#d8576b"
             ],
             [
              0.6666666666666666,
              "#ed7953"
             ],
             [
              0.7777777777777778,
              "#fb9f3a"
             ],
             [
              0.8888888888888888,
              "#fdca26"
             ],
             [
              1,
              "#f0f921"
             ]
            ],
            "type": "surface"
           }
          ],
          "table": [
           {
            "cells": {
             "fill": {
              "color": "#EBF0F8"
             },
             "line": {
              "color": "white"
             }
            },
            "header": {
             "fill": {
              "color": "#C8D4E3"
             },
             "line": {
              "color": "white"
             }
            },
            "type": "table"
           }
          ]
         },
         "layout": {
          "annotationdefaults": {
           "arrowcolor": "#2a3f5f",
           "arrowhead": 0,
           "arrowwidth": 1
          },
          "autotypenumbers": "strict",
          "coloraxis": {
           "colorbar": {
            "outlinewidth": 0,
            "ticks": ""
           }
          },
          "colorscale": {
           "diverging": [
            [
             0,
             "#8e0152"
            ],
            [
             0.1,
             "#c51b7d"
            ],
            [
             0.2,
             "#de77ae"
            ],
            [
             0.3,
             "#f1b6da"
            ],
            [
             0.4,
             "#fde0ef"
            ],
            [
             0.5,
             "#f7f7f7"
            ],
            [
             0.6,
             "#e6f5d0"
            ],
            [
             0.7,
             "#b8e186"
            ],
            [
             0.8,
             "#7fbc41"
            ],
            [
             0.9,
             "#4d9221"
            ],
            [
             1,
             "#276419"
            ]
           ],
           "sequential": [
            [
             0,
             "#0d0887"
            ],
            [
             0.1111111111111111,
             "#46039f"
            ],
            [
             0.2222222222222222,
             "#7201a8"
            ],
            [
             0.3333333333333333,
             "#9c179e"
            ],
            [
             0.4444444444444444,
             "#bd3786"
            ],
            [
             0.5555555555555556,
             "#d8576b"
            ],
            [
             0.6666666666666666,
             "#ed7953"
            ],
            [
             0.7777777777777778,
             "#fb9f3a"
            ],
            [
             0.8888888888888888,
             "#fdca26"
            ],
            [
             1,
             "#f0f921"
            ]
           ],
           "sequentialminus": [
            [
             0,
             "#0d0887"
            ],
            [
             0.1111111111111111,
             "#46039f"
            ],
            [
             0.2222222222222222,
             "#7201a8"
            ],
            [
             0.3333333333333333,
             "#9c179e"
            ],
            [
             0.4444444444444444,
             "#bd3786"
            ],
            [
             0.5555555555555556,
             "#d8576b"
            ],
            [
             0.6666666666666666,
             "#ed7953"
            ],
            [
             0.7777777777777778,
             "#fb9f3a"
            ],
            [
             0.8888888888888888,
             "#fdca26"
            ],
            [
             1,
             "#f0f921"
            ]
           ]
          },
          "colorway": [
           "#636efa",
           "#EF553B",
           "#00cc96",
           "#ab63fa",
           "#FFA15A",
           "#19d3f3",
           "#FF6692",
           "#B6E880",
           "#FF97FF",
           "#FECB52"
          ],
          "font": {
           "color": "#2a3f5f"
          },
          "geo": {
           "bgcolor": "white",
           "lakecolor": "white",
           "landcolor": "#E5ECF6",
           "showlakes": true,
           "showland": true,
           "subunitcolor": "white"
          },
          "hoverlabel": {
           "align": "left"
          },
          "hovermode": "closest",
          "mapbox": {
           "style": "light"
          },
          "paper_bgcolor": "white",
          "plot_bgcolor": "#E5ECF6",
          "polar": {
           "angularaxis": {
            "gridcolor": "white",
            "linecolor": "white",
            "ticks": ""
           },
           "bgcolor": "#E5ECF6",
           "radialaxis": {
            "gridcolor": "white",
            "linecolor": "white",
            "ticks": ""
           }
          },
          "scene": {
           "xaxis": {
            "backgroundcolor": "#E5ECF6",
            "gridcolor": "white",
            "gridwidth": 2,
            "linecolor": "white",
            "showbackground": true,
            "ticks": "",
            "zerolinecolor": "white"
           },
           "yaxis": {
            "backgroundcolor": "#E5ECF6",
            "gridcolor": "white",
            "gridwidth": 2,
            "linecolor": "white",
            "showbackground": true,
            "ticks": "",
            "zerolinecolor": "white"
           },
           "zaxis": {
            "backgroundcolor": "#E5ECF6",
            "gridcolor": "white",
            "gridwidth": 2,
            "linecolor": "white",
            "showbackground": true,
            "ticks": "",
            "zerolinecolor": "white"
           }
          },
          "shapedefaults": {
           "line": {
            "color": "#2a3f5f"
           }
          },
          "ternary": {
           "aaxis": {
            "gridcolor": "white",
            "linecolor": "white",
            "ticks": ""
           },
           "baxis": {
            "gridcolor": "white",
            "linecolor": "white",
            "ticks": ""
           },
           "bgcolor": "#E5ECF6",
           "caxis": {
            "gridcolor": "white",
            "linecolor": "white",
            "ticks": ""
           }
          },
          "title": {
           "x": 0.05
          },
          "xaxis": {
           "automargin": true,
           "gridcolor": "white",
           "linecolor": "white",
           "ticks": "",
           "title": {
            "standoff": 15
           },
           "zerolinecolor": "white",
           "zerolinewidth": 2
          },
          "yaxis": {
           "automargin": true,
           "gridcolor": "white",
           "linecolor": "white",
           "ticks": "",
           "title": {
            "standoff": 15
           },
           "zerolinecolor": "white",
           "zerolinewidth": 2
          }
         }
        },
        "title": {
         "text": "UMAP Projection of Resampled Data"
        },
        "xaxis": {
         "anchor": "y",
         "domain": [
          0,
          1
         ],
         "title": {
          "text": "UMAP1"
         }
        },
        "yaxis": {
         "anchor": "x",
         "domain": [
          0,
          1
         ],
         "title": {
          "text": "UMAP2"
         }
        }
       }
      }
     },
     "metadata": {},
     "output_type": "display_data"
    }
   ],
   "source": [
    "import numpy as np\n",
    "import pandas as pd\n",
    "from umap import UMAP\n",
    "import plotly.express as px\n",
    "from sklearn.preprocessing import StandardScaler\n",
    "\n",
    "# Apply standard scaling (if necessary)\n",
    "scaler = StandardScaler()\n",
    "X_scaled = scaler.fit_transform(X)  # Scale original dataset features\n",
    "X_resampled_scaled = scaler.transform(X_resampled)  # Scale resampled dataset\n",
    "\n",
    "# Step 1: Fit UMAP on the resampled dataset\n",
    "umap = UMAP(n_components=2, init='random', random_state=42)\n",
    "proj_resampled = umap.fit_transform(X_resampled_scaled)\n",
    "\n",
    "# Step 2: Fit UMAP on the original dataset for comparison\n",
    "proj_original = umap.transform(X_scaled)\n",
    "\n",
    "# Step 3: Create a DataFrame to store UMAP projections for resampled data\n",
    "df_resampled = pd.DataFrame(proj_resampled, columns=['UMAP1', 'UMAP2'])\n",
    "df_resampled['Class'] = y_resampled  # Add class labels for resampled data\n",
    "\n",
    "# Step 4: Identify synthetic points (newly added) by checking for duplicates\n",
    "original_length = len(X)  # Number of instances before resampling\n",
    "df_resampled['is_synthetic'] = ['Synthetic' if i >= original_length else 'Original' for i in range(len(X_resampled))]\n",
    "\n",
    "# Step 5: Plot the result using Plotly\n",
    "fig = px.scatter(\n",
    "    df_resampled, x='UMAP1', y='UMAP2', \n",
    "    color='Class', symbol='is_synthetic', \n",
    "    title=\"UMAP Projection of Resampled Data\",\n",
    "    labels={'color': 'Class'}\n",
    ")\n",
    "\n",
    "# Display the plot\n",
    "fig.show()\n"
   ]
  },
  {
   "cell_type": "code",
   "execution_count": 112,
   "metadata": {},
   "outputs": [
    {
     "name": "stdout",
     "output_type": "stream",
     "text": [
      "Shape of X_resampled: (300, 13)\n",
      "Shape of y_resampled: (300,)\n",
      "Data type of X_resampled: float64\n",
      "Data type of y_resampled: int64\n"
     ]
    },
    {
     "name": "stderr",
     "output_type": "stream",
     "text": [
      "c:\\Users\\91843\\Documents\\VsCode Codes\\Intuitionistic-FCM-Smote\\.venv\\Lib\\site-packages\\umap\\umap_.py:1945: UserWarning:\n",
      "\n",
      "n_jobs value 1 overridden to 1 by setting random_state. Use no seed for parallelism.\n",
      "\n"
     ]
    },
    {
     "data": {
      "image/png": "[encoded data removed]",
      "text/plain": [
       "<Figure size 800x600 with 2 Axes>"
      ]
     },
     "metadata": {},
     "output_type": "display_data"
    }
   ],
   "source": [
    "import umap\n",
    "import matplotlib.pyplot as plt\n",
    "print(\"Shape of X_resampled:\", X_resampled.shape)\n",
    "print(\"Shape of y_resampled:\", y_resampled.shape)\n",
    "print(\"Data type of X_resampled:\", X_resampled.dtype)\n",
    "print(\"Data type of y_resampled:\", y_resampled.dtype)\n",
    "\n",
    "\n",
    "\n",
    "# Initialize UMAP and reduce dimensions\n",
    "reducer = umap.UMAP(n_neighbors=15, min_dist=0.1, random_state=42)\n",
    "X_embedded = reducer.fit_transform(X_resampled)\n",
    "\n",
    "# Scatter plot of the resampled data\n",
    "plt.figure(figsize=(8, 6))\n",
    "plt.scatter(X_embedded[:, 0], X_embedded[:, 1], c=y_resampled, cmap='Spectral', s=10)\n",
    "plt.colorbar(boundaries=np.arange(len(np.unique(y_resampled))+1)-0.5).set_ticks(np.arange(len(np.unique(y_resampled))))\n",
    "plt.title('2D UMAP projection of resampled data')\n",
    "plt.show()"
   ]
  },
  {
   "cell_type": "code",
   "execution_count": 113,
   "metadata": {},
   "outputs": [
    {
     "name": "stdout",
     "output_type": "stream",
     "text": [
      "Recall (macro): 0.8055555555555555\n",
      "Specificity (macro): 0.8701587301587302\n",
      "Precision (macro): 0.7547619047619047\n",
      "Recall (macro): 0.8055555555555555\n",
      "G-Mean: 0.8372342559251459\n",
      "Accuracy: 0.7666666666666667\n",
      "F1-score (macro): 0.7711364115538689\n",
      "AUC could not be calculated: axis 1 is out of bounds for array of dimension 1\n"
     ]
    }
   ],
   "source": [
    "from sklearn.model_selection import train_test_split\n",
    "from sklearn.neighbors import KNeighborsClassifier\n",
    "from sklearn import metrics\n",
    "from sklearn.metrics import recall_score, accuracy_score, confusion_matrix, roc_auc_score\n",
    "import numpy as np\n",
    "\n",
    "# Split the dataset\n",
    "X_train, X_test, y_train, y_test = train_test_split(X_resampled, y_resampled, test_size=0.1, random_state=42)\n",
    "\n",
    "# Define a function to compute specificity for multi-class\n",
    "def specificity(y_true, y_pred):\n",
    "    cm = confusion_matrix(y_true, y_pred)\n",
    "    specificities = []\n",
    "    for i in range(len(cm)):  # Loop through each class\n",
    "        tn = sum(sum(cm)) - (sum(cm[i, :]) + sum(cm[:, i]) - cm[i, i])\n",
    "        fp = sum(cm[:, i]) - cm[i, i]\n",
    "        specificity_class = tn / (tn + fp)\n",
    "        specificities.append(specificity_class)\n",
    "    return np.mean(specificities)\n",
    "\n",
    "# Sensitivity (same as recall, macro average)\n",
    "def sensitivity(y_true, y_pred):\n",
    "    return recall_score(y_true, y_pred, average='macro')\n",
    "\n",
    "# Initialize and train the k-NN classifier\n",
    "knn = KNeighborsClassifier(n_neighbors=3)\n",
    "knn.fit(X_train, y_train)\n",
    "\n",
    "# Predict the labels for the test set\n",
    "y_pred = knn.predict(X_test)\n",
    "\n",
    "# Calculate performance metrics for multi-class classification\n",
    "recall = recall_score(y_test, y_pred, average=\"macro\")\n",
    "specificity_val = specificity(y_test, y_pred)\n",
    "g_mean = (recall * specificity_val) ** 0.5\n",
    "\n",
    "# Print the performance metrics\n",
    "print(\"Recall (macro):\", recall)\n",
    "print(\"Specificity (macro):\", specificity_val)\n",
    "print(\"Precision (macro):\", metrics.precision_score(y_test, y_pred, average=\"macro\"))\n",
    "print(\"Recall (macro):\", metrics.recall_score(y_test, y_pred, average=\"macro\"))\n",
    "print(\"G-Mean:\", g_mean)\n",
    "print(\"Accuracy:\", accuracy_score(y_test, y_pred))\n",
    "print(\"F1-score (macro):\", metrics.f1_score(y_test, y_pred, average=\"macro\"))\n",
    "\n",
    "# For AUC in multi-class, use the OneVsRestClassifier approach\n",
    "try:\n",
    "    print(\"AUC:\", roc_auc_score(y_test, y_pred, multi_class='ovr', average='macro'))\n",
    "except ValueError as e:\n",
    "    print(\"AUC could not be calculated:\", e)\n"
   ]
  },
  {
   "cell_type": "code",
   "execution_count": 114,
   "metadata": {},
   "outputs": [
    {
     "name": "stdout",
     "output_type": "stream",
     "text": [
      "Original data point count: 178\n"
     ]
    },
    {
     "data": {
      "image/png": "[encoded data removed]",
      "text/plain": [
       "<Figure size 800x600 with 1 Axes>"
      ]
     },
     "metadata": {},
     "output_type": "display_data"
    },
    {
     "name": "stdout",
     "output_type": "stream",
     "text": [
      "Resampled data point count: 300\n"
     ]
    },
    {
     "data": {
      "image/png": "[encoded data removed]",
      "text/plain": [
       "<Figure size 800x600 with 1 Axes>"
      ]
     },
     "metadata": {},
     "output_type": "display_data"
    }
   ],
   "source": [
    "import matplotlib.pyplot as plt\n",
    "import seaborn as sns\n",
    "import numpy as np\n",
    "\n",
    "# Plot original data\n",
    "if isinstance(X, pd.DataFrame):\n",
    "    X = X.to_numpy()\n",
    "if isinstance(y, pd.Series):\n",
    "    y = y.to_numpy()\n",
    "\n",
    "# Display the count of original data points\n",
    "print(f\"Original data point count: {X.shape[0]}\")\n",
    "\n",
    "# Selecting two features (feature 0 and feature 1) for the graph, assuming 2D or more data\n",
    "if X.shape[1] >= 2:\n",
    "    plt.figure(figsize=(8, 6))\n",
    "    # Add jitter to separate overlapping points slightly\n",
    "    jittered_X = X + np.random.normal(scale=0.01, size=X.shape)\n",
    "    # Create scatter plot with different colors for different classes\n",
    "    sns.scatterplot(x=jittered_X[:, 0], y=jittered_X[:, 1], hue=y, palette='Set1', s=60, edgecolor='k')\n",
    "    plt.title(f\"Original Data (Total points: {X.shape[0]})\")\n",
    "    plt.xlabel('Feature 1')\n",
    "    plt.ylabel('Feature 2')\n",
    "    plt.legend(title='Class')\n",
    "    plt.show()\n",
    "else:\n",
    "    print(\"Insufficient features for 2D plot.\")\n",
    "\n",
    "# Plot resampled data\n",
    "if isinstance(X_resampled, pd.DataFrame):\n",
    "    X_resampled = X_resampled.to_numpy()\n",
    "if isinstance(y_resampled, pd.Series):\n",
    "    y_resampled = y_resampled.to_numpy()\n",
    "\n",
    "# Display the count of resampled data points\n",
    "print(f\"Resampled data point count: {X_resampled.shape[0]}\")\n",
    "\n",
    "# Selecting two features (feature 0 and feature 1) for the graph, assuming 2D or more data\n",
    "if X_resampled.shape[1] >= 2:\n",
    "    plt.figure(figsize=(8, 6))\n",
    "    # Add jitter to separate overlapping points slightly\n",
    "    \n",
    "    jittered_X_resampled = X_resampled + np.random.normal(scale=0.01, size=X_resampled.shape)\n",
    "    # Create scatter plot with different colors for different classes\n",
    "    sns.scatterplot(x=jittered_X_resampled[:, 0], y=jittered_X_resampled[:, 1], hue=y_resampled, palette='Set2', s=60, edgecolor='k', marker='D')\n",
    "    plt.title(f\"Resampled Data (Total points: {X_resampled.shape[0]})\")\n",
    "    plt.xlabel('Feature 1')\n",
    "    plt.ylabel('Feature 2')\n",
    "    plt.legend(title='Class')\n",
    "    plt.show()\n",
    "else:\n",
    "    print(\"Insufficient features for 2D plot.\")\n"
   ]
  }
 ],
 "metadata": {
  "kernelspec": {
   "display_name": ".venv",
   "language": "python",
   "name": "python3"
  },
  "language_info": {
   "codemirror_mode": {
    "name": "ipython",
    "version": 3
   },
   "file_extension": ".py",
   "mimetype": "text/x-python",
   "name": "python",
   "nbconvert_exporter": "python",
   "pygments_lexer": "ipython3",
   "version": "3.12.3"
  }
 },
 "nbformat": 4,
 "nbformat_minor": 2
}
