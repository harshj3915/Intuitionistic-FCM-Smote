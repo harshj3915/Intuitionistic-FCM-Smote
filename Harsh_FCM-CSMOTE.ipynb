{
  "cells": [
    {
      "cell_type": "markdown",
      "metadata": {
        "colab_type": "text",
        "id": "view-in-github"
      },
      "source": [
        "<a href=\"https://colab.research.google.com/github/harshj3915/Intuitionistic-FCM-Smote/blob/Harsh/Harsh_FCM-CSMOTE.ipynb\" target=\"_parent\"><img src=\"https://colab.research.google.com/assets/colab-badge.svg\" alt=\"Open In Colab\"/></a>"
      ]
    },
    {
      "cell_type": "code",
      "execution_count": null,
      "metadata": {},
      "outputs": [],
      "source": [
        "%pip install numpy\n",
        "%pip install -q numpy scikit-learn imbalanced-learn\n",
        "%pip install ucimlrepo matplotlib"
      ]
    },
    {
      "cell_type": "code",
      "execution_count": null,
      "metadata": {},
      "outputs": [],
      "source": [
        "from ucimlrepo import fetch_ucirepo \n",
        "  \n",
        "# fetch dataset \n",
        "iris = fetch_ucirepo(id=53) \n",
        "  \n",
        "# data (as pandas dataframes) \n",
        "X = iris.data.features \n",
        "y = iris.data.targets \n",
        "  \n",
        "# metadata \n",
        "print(iris.metadata) \n",
        "  \n",
        "# variable information \n",
        "print(iris.variables) \n"
      ]
    },
    {
      "cell_type": "code",
      "execution_count": 31,
      "metadata": {},
      "outputs": [],
      "source": [
        "from sklearn.cluster import DBSCAN\n",
        "import numpy as np\n",
        "import matplotlib.pyplot as plt\n",
        "\n",
        "def extract_and_visualize_k_clusters_with_dbscan(X, k):\n",
        "    \"\"\"\n",
        "    Extract and visualize the first k clusters from the data using the DBSCAN algorithm.\n",
        "    \n",
        "    Args:\n",
        "    - X : Feature matrix (dataset)\n",
        "    - k : Number of clusters to extract\n",
        "    \n",
        "    Returns:\n",
        "    - k_clusters : List of the first k clusters\n",
        "    \"\"\"\n",
        "    # Apply DBSCAN to find clusters\n",
        "    dbscan = DBSCAN()\n",
        "    dbscan.fit(X)\n",
        "    \n",
        "    # Get the cluster labels assigned by DBSCAN\n",
        "    cluster_labels = dbscan.labels_\n",
        "    \n",
        "    # Identify the unique cluster labels (ignoring noise, labeled as -1)\n",
        "    unique_labels = np.unique(cluster_labels)\n",
        "    \n",
        "    # Initialize a list to store the first k clusters\n",
        "    k_clusters = []\n",
        "    \n",
        "    # Loop over unique labels and extract the first k clusters (excluding noise)\n",
        "    for label in unique_labels:\n",
        "        if label != -1 and len(k_clusters) < k:  # Ignore noise (-1) and stop when we get k clusters\n",
        "            cluster = X[cluster_labels == label]\n",
        "            k_clusters.append(cluster)\n",
        "\n",
        "    # Visualization of clusters using the first two features for 2D plotting\n",
        "    plt.figure(figsize=(10, 6))\n",
        "    \n",
        "    # Loop over each cluster and plot\n",
        "    for label in unique_labels:\n",
        "        if label == -1:\n",
        "            # Plot noise points in black\n",
        "            plt.scatter(X[cluster_labels == label][:, 0], X[cluster_labels == label][:, 1], \n",
        "                        c='k', marker='x', label='Noise')\n",
        "        else:\n",
        "            if len(k_clusters) < k:  # Only plot up to k clusters\n",
        "                # Generate a color for the cluster\n",
        "                color = plt.cm.rainbow(float(label) / len(unique_labels))\n",
        "                plt.scatter(X[cluster_labels == label][:, 0], X[cluster_labels == label][:, 1], \n",
        "                            c=[color], label=f'Cluster {label}')\n",
        "    \n",
        "    # Add labels and title to the plot\n",
        "    plt.title(f'DBSCAN Clustering with First {k} Clusters')\n",
        "    plt.legend()\n",
        "    plt.show()\n",
        "    \n",
        "    return k_clusters\n"
      ]
    },
    {
      "cell_type": "code",
      "execution_count": null,
      "metadata": {},
      "outputs": [],
      "source": [
        "from ucimlrepo import fetch_ucirepo \n",
        "  \n",
        "# fetch dataset \n",
        "iris = fetch_ucirepo(id=53) \n",
        "  \n",
        "# data (as pandas dataframes) \n",
        "X = iris.data.features.values\n",
        "\n",
        "  \n",
        "print(extract_and_visualize_k_clusters_with_dbscan(X, 3))\n"
      ]
    },
    {
      "cell_type": "code",
      "execution_count": 34,
      "metadata": {},
      "outputs": [],
      "source": [
        "import warnings\n",
        "import math\n",
        "import copy\n",
        "import numpy as np\n",
        "from sklearn.mixture import GaussianMixture\n",
        "from sklearn.utils import check_random_state\n",
        "from sklearn.metrics.pairwise import euclidean_distances\n",
        "from imblearn.over_sampling.base import BaseOverSampler\n",
        "from imblearn.over_sampling import SMOTE\n",
        "from imblearn.over_sampling import RandomOverSampler\n",
        "from imblearn.exceptions import raise_isinstance_error\n",
        "from imblearn.utils import check_neighbors_object\n",
        "from imblearn.utils.deprecation import deprecate_parameter"
      ]
    },
    {
      "cell_type": "code",
      "execution_count": null,
      "metadata": {},
      "outputs": [],
      "source": []
    }
  ],
  "metadata": {
    "colab": {
      "include_colab_link": true,
      "provenance": []
    },
    "kernelspec": {
      "display_name": "Python 3",
      "name": "python3"
    },
    "language_info": {
      "codemirror_mode": {
        "name": "ipython",
        "version": 3
      },
      "file_extension": ".py",
      "mimetype": "text/x-python",
      "name": "python",
      "nbconvert_exporter": "python",
      "pygments_lexer": "ipython3",
      "version": "3.12.3"
    }
  },
  "nbformat": 4,
  "nbformat_minor": 0
}
